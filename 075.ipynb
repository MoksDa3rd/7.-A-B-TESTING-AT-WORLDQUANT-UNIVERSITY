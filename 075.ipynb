{
 "cells": [
  {
   "cell_type": "markdown",
   "id": "ef0276e4-1e69-4177-b6e6-febd8ebfe8f0",
   "metadata": {},
   "source": [
    "<font size=\"+3\"><strong>7.5. Admissions in the MScFE 🎓🗞</strong></font>"
   ]
  },
  {
   "cell_type": "markdown",
   "id": "13900fdf-888d-4667-a3b0-a09e8e81909c",
   "metadata": {
    "deletable": false,
    "editable": false
   },
   "source": [
    "In this project, you conducted an experiment to help WQU improve enrollment in the Applied Data Science Lab. But let's not forget about our [Master of Science in Financial Engineering](https://www.wqu.edu/programs/mscfe/)! For your assignment, you'll help the MScFE conduct a similar experiment. This will be a great opportunity to put your new EDA, ETL, and statistics skills into action. \n",
    "\n",
    "Also, keep in mind that for many of these submissions, you'll be passing in dictionaries that will test different parts of your code. "
   ]
  },
  {
   "cell_type": "code",
   "execution_count": 121,
   "id": "e37d2b16-8ef4-4074-9cd3-ba33f3c5be07",
   "metadata": {
    "deletable": false,
    "editable": false,
    "init_cell": true
   },
   "outputs": [
    {
     "data": {
      "text/html": [
       "\n",
       "<style>\n",
       "  \n",
       "  .checkmark {\n",
       "    width: 56px;\n",
       "    height: 56px;\n",
       "    border-radius: 50%;\n",
       "    display: block;\n",
       "    stroke-width: 2;\n",
       "    stroke: #fff;\n",
       "    stroke-miterlimit: 10;\n",
       "    box-shadow: inset 0px 0px 0px #7ac142;\n",
       "    animation: fill .4s ease-in-out .4s forwards, scale .3s ease-in-out .9s both;\n",
       "  }\n",
       "  \n",
       "  .checkmark__circle {\n",
       "    stroke-dasharray: 166;\n",
       "    stroke-dashoffset: 166;\n",
       "    stroke-width: 2;\n",
       "    stroke-miterlimit: 10;\n",
       "    stroke: #7ac142;\n",
       "    fill: none;\n",
       "    animation: stroke .6s cubic-bezier(0.650, 0.000, 0.450, 1.000) forwards;\n",
       "  }\n",
       "  \n",
       "  .checkmark__check {\n",
       "    transform-origin: 50% 50%;\n",
       "    stroke-dasharray: 48;\n",
       "    stroke-dashoffset: 48;\n",
       "    animation: stroke .3s cubic-bezier(0.650, 0.000, 0.450, 1.000) .8s forwards;\n",
       "  }\n",
       "  \n",
       "  .failmark {\n",
       "    width: 56px;\n",
       "    height: 56px;\n",
       "    border-radius: 50%;\n",
       "    display: block;\n",
       "    stroke-width: 2;\n",
       "    stroke: #fff;\n",
       "    stroke-miterlimit: 10;\n",
       "    box-shadow: inset 0px 0px 0px #F34811;\n",
       "    animation: failfill .4s ease-in-out .4s forwards, scale .3s ease-in-out .9s both;\n",
       "  }\n",
       "  \n",
       "  .failmark__circle {\n",
       "    stroke-dasharray: 166;\n",
       "    stroke-dashoffset: 166;\n",
       "    stroke-width: 2;\n",
       "    stroke-miterlimit: 10;\n",
       "    stroke: #F34811;\n",
       "    fill: none;\n",
       "    animation: stroke .6s cubic-bezier(0.650, 0.000, 0.450, 1.000) forwards;\n",
       "  }\n",
       "  \n",
       "  @keyframes stroke {\n",
       "    100% {\n",
       "      stroke-dashoffset: 0;\n",
       "    }\n",
       "  }\n",
       "  \n",
       "  @keyframes scale {\n",
       "    0%, 100% {\n",
       "      transform: none;\n",
       "    }\n",
       "    50% {\n",
       "      transform: scale3d(1.1, 1.1, 1);\n",
       "    }\n",
       "  }\n",
       "  \n",
       "  @keyframes fill {\n",
       "    100% {\n",
       "      box-shadow: inset 0px 0px 0px 30px #7ac142;\n",
       "    }\n",
       "  }\n",
       "  \n",
       "  @keyframes failfill {\n",
       "    100% {\n",
       "      box-shadow: inset 0px 0px 0px 30px #F34811;\n",
       "    }\n",
       "  }\n",
       "  \n",
       "  \n",
       "  .wqet-result {\n",
       "    width: 450px;\n",
       "    clear: both;\n",
       "  }\n",
       "  \n",
       "  .wqet-result .animation {\n",
       "    float: left;\n",
       "    width: 100px;\n",
       "  }\n",
       "  \n",
       "  .wqet-result .animation .checkmark,\n",
       "  .wqet-result .animation .failmark {\n",
       "    margin: 20px auto 20px auto;\n",
       "  }\n",
       "  \n",
       "  .wqet-result .details {\n",
       "    float: right;\n",
       "    width: 349px;\n",
       "    padding: 28px 0;\n",
       "  }\n",
       "  \n",
       "  .wqet-result .details .title {\n",
       "    font-weight: bold;\n",
       "    font-size: 110%;\n",
       "  }\n",
       "  .wqet-result .details p {\n",
       "    margin: 0;\n",
       "  }\n",
       "</style>\n"
      ],
      "text/plain": [
       "<IPython.core.display.HTML object>"
      ]
     },
     "metadata": {},
     "output_type": "display_data"
    },
    {
     "name": "stdout",
     "output_type": "stream",
     "text": [
      "Reset 'ds-applicants' collection. Now has 5025 documents.\n",
      "Reset 'mscfe-applicants' collection. Now has 1335 documents.\n"
     ]
    }
   ],
   "source": [
    "import wqet_grader\n",
    "from pymongo import MongoClient\n",
    "from pymongo.collection import Collection\n",
    "from teaching_tools.ab_test.reset import Reset\n",
    "\n",
    "wqet_grader.init(\"Project 7 Assessment\")\n",
    "\n",
    "r = Reset()\n",
    "r.reset_database()"
   ]
  },
  {
   "cell_type": "code",
   "execution_count": 122,
   "id": "bbbd7cf7-153a-486e-9fc2-f68d3677c4b7",
   "metadata": {
    "deletable": false
   },
   "outputs": [],
   "source": [
    "# Import your libraries here\n",
    "from pprint import PrettyPrinter\n",
    "import math\n",
    "import numpy as np\n",
    "import pandas as pd\n",
    "import plotly.express as px\n",
    "from country_converter import CountryConverter\n",
    "from statsmodels.stats.power import GofChisquarePower\n",
    "import scipy\n",
    "from statsmodels.stats.contingency_tables import Table2x2\n",
    "from teaching_tools.ab_test.experiment import Experiment\n",
    "import pandas as pd\n",
    "from country_converter import CountryConverter\n",
    "from pymongo import MongoClient\n"
   ]
  },
  {
   "cell_type": "markdown",
   "id": "2fdb849d-ef82-41d2-b8b4-f07c1bbcf796",
   "metadata": {
    "deletable": false,
    "editable": false
   },
   "source": [
    "# Connect"
   ]
  },
  {
   "cell_type": "markdown",
   "id": "c6aedd42-46a0-40ef-8b3b-869dc976cee2",
   "metadata": {
    "deletable": false,
    "editable": false
   },
   "source": [
    "**Task 7.5.1:** On your MongoDB server, there is a collection named `\"mscfe-applicants\"`. Locate this collection, and assign it to the variable name `mscfe_app`."
   ]
  },
  {
   "cell_type": "code",
   "execution_count": 81,
   "id": "708d21e4-0270-4b5a-8775-e0b4f9a2c15b",
   "metadata": {
    "deletable": false
   },
   "outputs": [],
   "source": [
    "from pymongo import MongoClient\n",
    "# Create `client`\n",
    "client = MongoClient(host=\"localhost\", port=27017)\n",
    "# Create `db`\n",
    "db = client [\"wqu-abtest\"]\n",
    "# Assign `\"mscfe-applicants\"` collection to `mscfe_app`\n",
    "mscfe_app = db[\"mscfe-applicants\"]"
   ]
  },
  {
   "cell_type": "code",
   "execution_count": 82,
   "id": "fb84b8b0-d54d-47f1-8789-41733bda0fd5",
   "metadata": {
    "deletable": false,
    "editable": false
   },
   "outputs": [
    {
     "data": {
      "text/html": [
       "\n",
       "    <div class=\"wqet-result\">\n",
       "      <div class=\"animation\">\n",
       "        <svg class=\"checkmark\" xmlns=\"http://www.w3.org/2000/svg\" viewBox=\"0 0 52 52\">\n",
       "          <circle class=\"checkmark__circle\" cx=\"26\" cy=\"26\" r=\"25\" fill=\"none\"/>\n",
       "          <path class=\"checkmark__check\" fill=\"none\" d=\"M14.1 27.2l7.1 7.2 16.7-16.8\"/>\n",
       "        </svg>\n",
       "      </div>\n",
       "      <div class=\"details\">\n",
       "        <p class=\"title\"><p>Yes! Your hard work is paying off.</p></p>\n",
       "        <p>Score: 1</p>\n",
       "      </div>\n",
       "    </div>\n"
      ],
      "text/plain": [
       "<IPython.core.display.HTML object>"
      ]
     },
     "metadata": {},
     "output_type": "display_data"
    }
   ],
   "source": [
    "submission = {\n",
    "    \"is_collection\": isinstance(mscfe_app, Collection),\n",
    "    \"collection_name\": mscfe_app.full_name,\n",
    "}\n",
    "wqet_grader.grade(\"Project 7 Assessment\", \"Task 7.5.1\", submission)"
   ]
  },
  {
   "cell_type": "markdown",
   "id": "2f233223-6f8c-4024-934c-1147f0cb5145",
   "metadata": {
    "deletable": false,
    "editable": false
   },
   "source": [
    "# Explore"
   ]
  },
  {
   "cell_type": "markdown",
   "id": "11ad67c9-c615-4d0a-a08d-0d6762c08a97",
   "metadata": {
    "deletable": false,
    "editable": false
   },
   "source": [
    "**Task 7.5.2:** Aggregate the applicants in `mscfe_app` by nationality, and then load your results into the DataFrame `df_nationality`. Your DataFrame should have two columns: `\"country_iso2\"` and `\"count\"`."
   ]
  },
  {
   "cell_type": "code",
   "execution_count": 83,
   "id": "3c40550a-7207-42eb-8804-d2b11390b1ac",
   "metadata": {
    "deletable": false
   },
   "outputs": [
    {
     "name": "stdout",
     "output_type": "stream",
     "text": [
      "result type: <class 'pymongo.command_cursor.CommandCursor'>\n",
      "df_nationality type: <class 'pandas.core.frame.DataFrame'>\n",
      "df_nationality shape (100, 2)\n"
     ]
    },
    {
     "data": {
      "text/html": [
       "<div>\n",
       "<style scoped>\n",
       "    .dataframe tbody tr th:only-of-type {\n",
       "        vertical-align: middle;\n",
       "    }\n",
       "\n",
       "    .dataframe tbody tr th {\n",
       "        vertical-align: top;\n",
       "    }\n",
       "\n",
       "    .dataframe thead th {\n",
       "        text-align: right;\n",
       "    }\n",
       "</style>\n",
       "<table border=\"1\" class=\"dataframe\">\n",
       "  <thead>\n",
       "    <tr style=\"text-align: right;\">\n",
       "      <th></th>\n",
       "      <th>country_iso2</th>\n",
       "      <th>count</th>\n",
       "    </tr>\n",
       "  </thead>\n",
       "  <tbody>\n",
       "    <tr>\n",
       "      <th>83</th>\n",
       "      <td>TW</td>\n",
       "      <td>1</td>\n",
       "    </tr>\n",
       "    <tr>\n",
       "      <th>54</th>\n",
       "      <td>AO</td>\n",
       "      <td>1</td>\n",
       "    </tr>\n",
       "    <tr>\n",
       "      <th>87</th>\n",
       "      <td>NL</td>\n",
       "      <td>1</td>\n",
       "    </tr>\n",
       "    <tr>\n",
       "      <th>50</th>\n",
       "      <td>GY</td>\n",
       "      <td>1</td>\n",
       "    </tr>\n",
       "    <tr>\n",
       "      <th>24</th>\n",
       "      <td>SN</td>\n",
       "      <td>1</td>\n",
       "    </tr>\n",
       "  </tbody>\n",
       "</table>\n",
       "</div>"
      ],
      "text/plain": [
       "   country_iso2  count\n",
       "83           TW      1\n",
       "54           AO      1\n",
       "87           NL      1\n",
       "50           GY      1\n",
       "24           SN      1"
      ]
     },
     "execution_count": 83,
     "metadata": {},
     "output_type": "execute_result"
    }
   ],
   "source": [
    "# Aggregate applicants by nationality\n",
    "result = mscfe_app.aggregate(\n",
    "    [\n",
    "        {\n",
    "            \"$group\": {\n",
    "                \"_id\": \"$countryISO2\", \"count\": {\"$count\": {}}\n",
    "            }\n",
    "        }\n",
    "    ]\n",
    ")\n",
    "print(\"result type:\", type(result))\n",
    "\n",
    "# Load result into DataFrame\n",
    "df_nationality =  ( \n",
    "    pd.DataFrame(result).rename({\"_id\": \"country_iso2\"}, axis=\"columns\").sort_values(\"count\")\n",
    ")\n",
    "\n",
    "print(\"df_nationality type:\", type(df_nationality))\n",
    "print(\"df_nationality shape\", df_nationality.shape)\n",
    "df_nationality.head()"
   ]
  },
  {
   "cell_type": "code",
   "execution_count": 84,
   "id": "010a3c26-98c6-4046-ae79-21d34da1b078",
   "metadata": {
    "deletable": false,
    "editable": false
   },
   "outputs": [
    {
     "data": {
      "text/html": [
       "\n",
       "    <div class=\"wqet-result\">\n",
       "      <div class=\"animation\">\n",
       "        <svg class=\"checkmark\" xmlns=\"http://www.w3.org/2000/svg\" viewBox=\"0 0 52 52\">\n",
       "          <circle class=\"checkmark__circle\" cx=\"26\" cy=\"26\" r=\"25\" fill=\"none\"/>\n",
       "          <path class=\"checkmark__check\" fill=\"none\" d=\"M14.1 27.2l7.1 7.2 16.7-16.8\"/>\n",
       "        </svg>\n",
       "      </div>\n",
       "      <div class=\"details\">\n",
       "        <p class=\"title\"><p>You got it. Dance party time! 🕺💃🕺💃</p></p>\n",
       "        <p>Score: 1</p>\n",
       "      </div>\n",
       "    </div>\n"
      ],
      "text/plain": [
       "<IPython.core.display.HTML object>"
      ]
     },
     "metadata": {},
     "output_type": "display_data"
    }
   ],
   "source": [
    "wqet_grader.grade(\"Project 7 Assessment\", \"Task 7.5.2\", df_nationality)\n"
   ]
  },
  {
   "cell_type": "markdown",
   "id": "b1820a35-1d02-4fec-b42e-6f311fd9ab88",
   "metadata": {
    "deletable": false,
    "editable": false
   },
   "source": [
    "**Task 7.5.3:** Using the `country_converter` library, add two new columns to `df_nationality`. The first, `\"country_name\"`, should contain the short name of the country in each row. The second, `\"country_iso3\"`, should contain the three-letter abbreviation."
   ]
  },
  {
   "cell_type": "code",
   "execution_count": 85,
   "id": "32791d01-5452-40bd-9fc9-e1ef831e1925",
   "metadata": {
    "deletable": false
   },
   "outputs": [
    {
     "name": "stdout",
     "output_type": "stream",
     "text": [
      "df_nationality type: <class 'pandas.core.frame.DataFrame'>\n",
      "df_nationality shape (100, 4)\n"
     ]
    },
    {
     "data": {
      "text/html": [
       "<div>\n",
       "<style scoped>\n",
       "    .dataframe tbody tr th:only-of-type {\n",
       "        vertical-align: middle;\n",
       "    }\n",
       "\n",
       "    .dataframe tbody tr th {\n",
       "        vertical-align: top;\n",
       "    }\n",
       "\n",
       "    .dataframe thead th {\n",
       "        text-align: right;\n",
       "    }\n",
       "</style>\n",
       "<table border=\"1\" class=\"dataframe\">\n",
       "  <thead>\n",
       "    <tr style=\"text-align: right;\">\n",
       "      <th></th>\n",
       "      <th>country_iso2</th>\n",
       "      <th>count</th>\n",
       "      <th>country_name</th>\n",
       "      <th>country_iso3</th>\n",
       "    </tr>\n",
       "  </thead>\n",
       "  <tbody>\n",
       "    <tr>\n",
       "      <th>83</th>\n",
       "      <td>TW</td>\n",
       "      <td>1</td>\n",
       "      <td>Taiwan</td>\n",
       "      <td>TWN</td>\n",
       "    </tr>\n",
       "    <tr>\n",
       "      <th>54</th>\n",
       "      <td>AO</td>\n",
       "      <td>1</td>\n",
       "      <td>Angola</td>\n",
       "      <td>AGO</td>\n",
       "    </tr>\n",
       "    <tr>\n",
       "      <th>87</th>\n",
       "      <td>NL</td>\n",
       "      <td>1</td>\n",
       "      <td>Netherlands</td>\n",
       "      <td>NLD</td>\n",
       "    </tr>\n",
       "    <tr>\n",
       "      <th>50</th>\n",
       "      <td>GY</td>\n",
       "      <td>1</td>\n",
       "      <td>Guyana</td>\n",
       "      <td>GUY</td>\n",
       "    </tr>\n",
       "    <tr>\n",
       "      <th>24</th>\n",
       "      <td>SN</td>\n",
       "      <td>1</td>\n",
       "      <td>Senegal</td>\n",
       "      <td>SEN</td>\n",
       "    </tr>\n",
       "  </tbody>\n",
       "</table>\n",
       "</div>"
      ],
      "text/plain": [
       "   country_iso2  count country_name country_iso3\n",
       "83           TW      1       Taiwan          TWN\n",
       "54           AO      1       Angola          AGO\n",
       "87           NL      1  Netherlands          NLD\n",
       "50           GY      1       Guyana          GUY\n",
       "24           SN      1      Senegal          SEN"
      ]
     },
     "execution_count": 85,
     "metadata": {},
     "output_type": "execute_result"
    }
   ],
   "source": [
    "# Instantiate `CountryConverter`\n",
    "\n",
    "\n",
    "# Create `\"country_name\"` column\n",
    "cc = CountryConverter()\n",
    "df_nationality[\"country_name\"] = cc.convert(\n",
    "    df_nationality[\"country_iso2\"], to=\"name_short\"\n",
    ")\n",
    "df_nationality[\"country_iso3\"] = cc.convert(\n",
    "    df_nationality[\"country_iso2\"], to=\"ISO3\"\n",
    ")\n",
    "# Create `\"country_iso3\"` column\n",
    "\n",
    "\n",
    "print(\"df_nationality type:\", type(df_nationality))\n",
    "print(\"df_nationality shape\", df_nationality.shape)\n",
    "df_nationality.head()"
   ]
  },
  {
   "cell_type": "code",
   "execution_count": 86,
   "id": "6c19af10-ae11-42fb-95ed-7a3be3066df6",
   "metadata": {
    "deletable": false,
    "editable": false
   },
   "outputs": [
    {
     "data": {
      "text/html": [
       "\n",
       "    <div class=\"wqet-result\">\n",
       "      <div class=\"animation\">\n",
       "        <svg class=\"checkmark\" xmlns=\"http://www.w3.org/2000/svg\" viewBox=\"0 0 52 52\">\n",
       "          <circle class=\"checkmark__circle\" cx=\"26\" cy=\"26\" r=\"25\" fill=\"none\"/>\n",
       "          <path class=\"checkmark__check\" fill=\"none\" d=\"M14.1 27.2l7.1 7.2 16.7-16.8\"/>\n",
       "        </svg>\n",
       "      </div>\n",
       "      <div class=\"details\">\n",
       "        <p class=\"title\"><p>Yes! Great problem solving.</p></p>\n",
       "        <p>Score: 1</p>\n",
       "      </div>\n",
       "    </div>\n"
      ],
      "text/plain": [
       "<IPython.core.display.HTML object>"
      ]
     },
     "metadata": {},
     "output_type": "display_data"
    }
   ],
   "source": [
    "wqet_grader.grade(\"Project 7 Assessment\", \"Task 7.5.3\", df_nationality)\n"
   ]
  },
  {
   "cell_type": "markdown",
   "id": "05c34793-b23e-41b6-9088-2b101e2ebb37",
   "metadata": {
    "deletable": false,
    "editable": false
   },
   "source": [
    "**Task 7.5.4:** Build a function `build_nat_choropleth` that uses plotly express and the data in `df_nationality` to create a choropleth map of the nationalities of MScFE applicants. Be sure to use the title `\"MScFE Applicants: Nationalities\"`."
   ]
  },
  {
   "cell_type": "code",
   "execution_count": 87,
   "id": "05a097dc-4ade-4b38-98ec-4d8af732f57d",
   "metadata": {
    "deletable": false
   },
   "outputs": [
    {
     "data": {
      "application/vnd.plotly.v1+json": {
       "config": {
        "plotlyServerURL": "https://plot.ly"
       },
       "data": [
        {
         "coloraxis": "coloraxis",
         "geo": "geo",
         "hovertemplate": "country_iso3=%{location}<br>count_pct=%{z}<extra></extra>",
         "locations": [
          "TWN",
          "AGO",
          "NLD",
          "GUY",
          "SEN",
          "DZA",
          "MOZ",
          "CHE",
          "YEM",
          "BRB",
          "COD",
          "PRT",
          "GMB",
          "GAB",
          "QAT",
          "SRB",
          "GTM",
          "WSM",
          "HTI",
          "MUS",
          "CAF",
          "THA",
          "SAU",
          "PER",
          "JPN",
          "ITA",
          "COL",
          "AUS",
          "LAO",
          "BEL",
          "KOR",
          "BFA",
          "DEU",
          "MDG",
          "POL",
          "HKG",
          "SDN",
          "BTN",
          "ERI",
          "ARG",
          "GRC",
          "TUN",
          "UZB",
          "ALB",
          "NER",
          "BLZ",
          "BRA",
          "SWZ",
          "ALA",
          "FJI",
          "KGZ",
          "IOT",
          "ESP",
          "ROU",
          "AZE",
          "MEX",
          "LBY",
          "BWA",
          "TCD",
          "MAR",
          "SGP",
          "CIV",
          "TGO",
          "MMR",
          "GBR",
          "SSD",
          "RUS",
          "MYS",
          "CAN",
          "BEN",
          "SLE",
          "EGY",
          "IRQ",
          "LKA",
          "RWA",
          "TUR",
          "LBR",
          "LSO",
          "SOM",
          "VNM",
          "IDN",
          "CHN",
          "UGA",
          "AFG",
          "CMR",
          "TZA",
          "ZMB",
          "MWI",
          "ZWE",
          "USA",
          "ZAF",
          "NPL",
          "PHL",
          "GHA",
          "ETH",
          "BGD",
          "KEN",
          "IND",
          "PAK",
          "NGA"
         ],
         "name": "",
         "type": "choropleth",
         "z": [
          0.0749063670411985,
          0.0749063670411985,
          0.0749063670411985,
          0.0749063670411985,
          0.0749063670411985,
          0.0749063670411985,
          0.0749063670411985,
          0.0749063670411985,
          0.0749063670411985,
          0.0749063670411985,
          0.0749063670411985,
          0.0749063670411985,
          0.0749063670411985,
          0.0749063670411985,
          0.0749063670411985,
          0.0749063670411985,
          0.0749063670411985,
          0.0749063670411985,
          0.0749063670411985,
          0.0749063670411985,
          0.0749063670411985,
          0.0749063670411985,
          0.0749063670411985,
          0.0749063670411985,
          0.0749063670411985,
          0.0749063670411985,
          0.0749063670411985,
          0.0749063670411985,
          0.0749063670411985,
          0.0749063670411985,
          0.149812734082397,
          0.149812734082397,
          0.149812734082397,
          0.149812734082397,
          0.149812734082397,
          0.149812734082397,
          0.149812734082397,
          0.149812734082397,
          0.149812734082397,
          0.149812734082397,
          0.149812734082397,
          0.149812734082397,
          0.149812734082397,
          0.149812734082397,
          0.149812734082397,
          0.149812734082397,
          0.149812734082397,
          0.149812734082397,
          0.149812734082397,
          0.149812734082397,
          0.149812734082397,
          0.149812734082397,
          0.149812734082397,
          0.149812734082397,
          0.22471910112359553,
          0.22471910112359553,
          0.22471910112359553,
          0.22471910112359553,
          0.299625468164794,
          0.299625468164794,
          0.299625468164794,
          0.299625468164794,
          0.299625468164794,
          0.299625468164794,
          0.37453183520599254,
          0.37453183520599254,
          0.37453183520599254,
          0.37453183520599254,
          0.37453183520599254,
          0.44943820224719105,
          0.44943820224719105,
          0.5243445692883896,
          0.599250936329588,
          0.599250936329588,
          0.6741573033707865,
          0.6741573033707865,
          0.7490636704119851,
          0.7490636704119851,
          0.8239700374531835,
          0.8239700374531835,
          0.9737827715355805,
          0.9737827715355805,
          0.9737827715355805,
          1.1235955056179776,
          1.1235955056179776,
          1.198501872659176,
          1.198501872659176,
          1.2734082397003745,
          1.647940074906367,
          1.7228464419475655,
          1.7228464419475655,
          1.8726591760299627,
          2.696629213483146,
          3.295880149812734,
          4.868913857677903,
          5.093632958801498,
          5.842696629213483,
          10.037453183520599,
          10.337078651685392,
          24.49438202247191
         ]
        }
       ],
       "layout": {
        "autosize": true,
        "coloraxis": {
         "colorbar": {
          "title": {
           "text": "count_pct"
          }
         },
         "colorscale": [
          [
           0,
           "rgb(255,245,235)"
          ],
          [
           0.125,
           "rgb(254,230,206)"
          ],
          [
           0.25,
           "rgb(253,208,162)"
          ],
          [
           0.375,
           "rgb(253,174,107)"
          ],
          [
           0.5,
           "rgb(253,141,60)"
          ],
          [
           0.625,
           "rgb(241,105,19)"
          ],
          [
           0.75,
           "rgb(217,72,1)"
          ],
          [
           0.875,
           "rgb(166,54,3)"
          ],
          [
           1,
           "rgb(127,39,4)"
          ]
         ]
        },
        "geo": {
         "center": {},
         "domain": {
          "x": [
           0,
           1
          ],
          "y": [
           0,
           1
          ]
         },
         "projection": {
          "type": "natural earth"
         }
        },
        "legend": {
         "tracegroupgap": 0
        },
        "template": {
         "data": {
          "bar": [
           {
            "error_x": {
             "color": "#2a3f5f"
            },
            "error_y": {
             "color": "#2a3f5f"
            },
            "marker": {
             "line": {
              "color": "#E5ECF6",
              "width": 0.5
             },
             "pattern": {
              "fillmode": "overlay",
              "size": 10,
              "solidity": 0.2
             }
            },
            "type": "bar"
           }
          ],
          "barpolar": [
           {
            "marker": {
             "line": {
              "color": "#E5ECF6",
              "width": 0.5
             },
             "pattern": {
              "fillmode": "overlay",
              "size": 10,
              "solidity": 0.2
             }
            },
            "type": "barpolar"
           }
          ],
          "carpet": [
           {
            "aaxis": {
             "endlinecolor": "#2a3f5f",
             "gridcolor": "white",
             "linecolor": "white",
             "minorgridcolor": "white",
             "startlinecolor": "#2a3f5f"
            },
            "baxis": {
             "endlinecolor": "#2a3f5f",
             "gridcolor": "white",
             "linecolor": "white",
             "minorgridcolor": "white",
             "startlinecolor": "#2a3f5f"
            },
            "type": "carpet"
           }
          ],
          "choropleth": [
           {
            "colorbar": {
             "outlinewidth": 0,
             "ticks": ""
            },
            "type": "choropleth"
           }
          ],
          "contour": [
           {
            "colorbar": {
             "outlinewidth": 0,
             "ticks": ""
            },
            "colorscale": [
             [
              0,
              "#0d0887"
             ],
             [
              0.1111111111111111,
              "#46039f"
             ],
             [
              0.2222222222222222,
              "#7201a8"
             ],
             [
              0.3333333333333333,
              "#9c179e"
             ],
             [
              0.4444444444444444,
              "#bd3786"
             ],
             [
              0.5555555555555556,
              "#d8576b"
             ],
             [
              0.6666666666666666,
              "#ed7953"
             ],
             [
              0.7777777777777778,
              "#fb9f3a"
             ],
             [
              0.8888888888888888,
              "#fdca26"
             ],
             [
              1,
              "#f0f921"
             ]
            ],
            "type": "contour"
           }
          ],
          "contourcarpet": [
           {
            "colorbar": {
             "outlinewidth": 0,
             "ticks": ""
            },
            "type": "contourcarpet"
           }
          ],
          "heatmap": [
           {
            "colorbar": {
             "outlinewidth": 0,
             "ticks": ""
            },
            "colorscale": [
             [
              0,
              "#0d0887"
             ],
             [
              0.1111111111111111,
              "#46039f"
             ],
             [
              0.2222222222222222,
              "#7201a8"
             ],
             [
              0.3333333333333333,
              "#9c179e"
             ],
             [
              0.4444444444444444,
              "#bd3786"
             ],
             [
              0.5555555555555556,
              "#d8576b"
             ],
             [
              0.6666666666666666,
              "#ed7953"
             ],
             [
              0.7777777777777778,
              "#fb9f3a"
             ],
             [
              0.8888888888888888,
              "#fdca26"
             ],
             [
              1,
              "#f0f921"
             ]
            ],
            "type": "heatmap"
           }
          ],
          "heatmapgl": [
           {
            "colorbar": {
             "outlinewidth": 0,
             "ticks": ""
            },
            "colorscale": [
             [
              0,
              "#0d0887"
             ],
             [
              0.1111111111111111,
              "#46039f"
             ],
             [
              0.2222222222222222,
              "#7201a8"
             ],
             [
              0.3333333333333333,
              "#9c179e"
             ],
             [
              0.4444444444444444,
              "#bd3786"
             ],
             [
              0.5555555555555556,
              "#d8576b"
             ],
             [
              0.6666666666666666,
              "#ed7953"
             ],
             [
              0.7777777777777778,
              "#fb9f3a"
             ],
             [
              0.8888888888888888,
              "#fdca26"
             ],
             [
              1,
              "#f0f921"
             ]
            ],
            "type": "heatmapgl"
           }
          ],
          "histogram": [
           {
            "marker": {
             "pattern": {
              "fillmode": "overlay",
              "size": 10,
              "solidity": 0.2
             }
            },
            "type": "histogram"
           }
          ],
          "histogram2d": [
           {
            "colorbar": {
             "outlinewidth": 0,
             "ticks": ""
            },
            "colorscale": [
             [
              0,
              "#0d0887"
             ],
             [
              0.1111111111111111,
              "#46039f"
             ],
             [
              0.2222222222222222,
              "#7201a8"
             ],
             [
              0.3333333333333333,
              "#9c179e"
             ],
             [
              0.4444444444444444,
              "#bd3786"
             ],
             [
              0.5555555555555556,
              "#d8576b"
             ],
             [
              0.6666666666666666,
              "#ed7953"
             ],
             [
              0.7777777777777778,
              "#fb9f3a"
             ],
             [
              0.8888888888888888,
              "#fdca26"
             ],
             [
              1,
              "#f0f921"
             ]
            ],
            "type": "histogram2d"
           }
          ],
          "histogram2dcontour": [
           {
            "colorbar": {
             "outlinewidth": 0,
             "ticks": ""
            },
            "colorscale": [
             [
              0,
              "#0d0887"
             ],
             [
              0.1111111111111111,
              "#46039f"
             ],
             [
              0.2222222222222222,
              "#7201a8"
             ],
             [
              0.3333333333333333,
              "#9c179e"
             ],
             [
              0.4444444444444444,
              "#bd3786"
             ],
             [
              0.5555555555555556,
              "#d8576b"
             ],
             [
              0.6666666666666666,
              "#ed7953"
             ],
             [
              0.7777777777777778,
              "#fb9f3a"
             ],
             [
              0.8888888888888888,
              "#fdca26"
             ],
             [
              1,
              "#f0f921"
             ]
            ],
            "type": "histogram2dcontour"
           }
          ],
          "mesh3d": [
           {
            "colorbar": {
             "outlinewidth": 0,
             "ticks": ""
            },
            "type": "mesh3d"
           }
          ],
          "parcoords": [
           {
            "line": {
             "colorbar": {
              "outlinewidth": 0,
              "ticks": ""
             }
            },
            "type": "parcoords"
           }
          ],
          "pie": [
           {
            "automargin": true,
            "type": "pie"
           }
          ],
          "scatter": [
           {
            "fillpattern": {
             "fillmode": "overlay",
             "size": 10,
             "solidity": 0.2
            },
            "type": "scatter"
           }
          ],
          "scatter3d": [
           {
            "line": {
             "colorbar": {
              "outlinewidth": 0,
              "ticks": ""
             }
            },
            "marker": {
             "colorbar": {
              "outlinewidth": 0,
              "ticks": ""
             }
            },
            "type": "scatter3d"
           }
          ],
          "scattercarpet": [
           {
            "marker": {
             "colorbar": {
              "outlinewidth": 0,
              "ticks": ""
             }
            },
            "type": "scattercarpet"
           }
          ],
          "scattergeo": [
           {
            "marker": {
             "colorbar": {
              "outlinewidth": 0,
              "ticks": ""
             }
            },
            "type": "scattergeo"
           }
          ],
          "scattergl": [
           {
            "marker": {
             "colorbar": {
              "outlinewidth": 0,
              "ticks": ""
             }
            },
            "type": "scattergl"
           }
          ],
          "scattermapbox": [
           {
            "marker": {
             "colorbar": {
              "outlinewidth": 0,
              "ticks": ""
             }
            },
            "type": "scattermapbox"
           }
          ],
          "scatterpolar": [
           {
            "marker": {
             "colorbar": {
              "outlinewidth": 0,
              "ticks": ""
             }
            },
            "type": "scatterpolar"
           }
          ],
          "scatterpolargl": [
           {
            "marker": {
             "colorbar": {
              "outlinewidth": 0,
              "ticks": ""
             }
            },
            "type": "scatterpolargl"
           }
          ],
          "scatterternary": [
           {
            "marker": {
             "colorbar": {
              "outlinewidth": 0,
              "ticks": ""
             }
            },
            "type": "scatterternary"
           }
          ],
          "surface": [
           {
            "colorbar": {
             "outlinewidth": 0,
             "ticks": ""
            },
            "colorscale": [
             [
              0,
              "#0d0887"
             ],
             [
              0.1111111111111111,
              "#46039f"
             ],
             [
              0.2222222222222222,
              "#7201a8"
             ],
             [
              0.3333333333333333,
              "#9c179e"
             ],
             [
              0.4444444444444444,
              "#bd3786"
             ],
             [
              0.5555555555555556,
              "#d8576b"
             ],
             [
              0.6666666666666666,
              "#ed7953"
             ],
             [
              0.7777777777777778,
              "#fb9f3a"
             ],
             [
              0.8888888888888888,
              "#fdca26"
             ],
             [
              1,
              "#f0f921"
             ]
            ],
            "type": "surface"
           }
          ],
          "table": [
           {
            "cells": {
             "fill": {
              "color": "#EBF0F8"
             },
             "line": {
              "color": "white"
             }
            },
            "header": {
             "fill": {
              "color": "#C8D4E3"
             },
             "line": {
              "color": "white"
             }
            },
            "type": "table"
           }
          ]
         },
         "layout": {
          "annotationdefaults": {
           "arrowcolor": "#2a3f5f",
           "arrowhead": 0,
           "arrowwidth": 1
          },
          "autotypenumbers": "strict",
          "coloraxis": {
           "colorbar": {
            "outlinewidth": 0,
            "ticks": ""
           }
          },
          "colorscale": {
           "diverging": [
            [
             0,
             "#8e0152"
            ],
            [
             0.1,
             "#c51b7d"
            ],
            [
             0.2,
             "#de77ae"
            ],
            [
             0.3,
             "#f1b6da"
            ],
            [
             0.4,
             "#fde0ef"
            ],
            [
             0.5,
             "#f7f7f7"
            ],
            [
             0.6,
             "#e6f5d0"
            ],
            [
             0.7,
             "#b8e186"
            ],
            [
             0.8,
             "#7fbc41"
            ],
            [
             0.9,
             "#4d9221"
            ],
            [
             1,
             "#276419"
            ]
           ],
           "sequential": [
            [
             0,
             "#0d0887"
            ],
            [
             0.1111111111111111,
             "#46039f"
            ],
            [
             0.2222222222222222,
             "#7201a8"
            ],
            [
             0.3333333333333333,
             "#9c179e"
            ],
            [
             0.4444444444444444,
             "#bd3786"
            ],
            [
             0.5555555555555556,
             "#d8576b"
            ],
            [
             0.6666666666666666,
             "#ed7953"
            ],
            [
             0.7777777777777778,
             "#fb9f3a"
            ],
            [
             0.8888888888888888,
             "#fdca26"
            ],
            [
             1,
             "#f0f921"
            ]
           ],
           "sequentialminus": [
            [
             0,
             "#0d0887"
            ],
            [
             0.1111111111111111,
             "#46039f"
            ],
            [
             0.2222222222222222,
             "#7201a8"
            ],
            [
             0.3333333333333333,
             "#9c179e"
            ],
            [
             0.4444444444444444,
             "#bd3786"
            ],
            [
             0.5555555555555556,
             "#d8576b"
            ],
            [
             0.6666666666666666,
             "#ed7953"
            ],
            [
             0.7777777777777778,
             "#fb9f3a"
            ],
            [
             0.8888888888888888,
             "#fdca26"
            ],
            [
             1,
             "#f0f921"
            ]
           ]
          },
          "colorway": [
           "#636efa",
           "#EF553B",
           "#00cc96",
           "#ab63fa",
           "#FFA15A",
           "#19d3f3",
           "#FF6692",
           "#B6E880",
           "#FF97FF",
           "#FECB52"
          ],
          "font": {
           "color": "#2a3f5f"
          },
          "geo": {
           "bgcolor": "white",
           "lakecolor": "white",
           "landcolor": "#E5ECF6",
           "showlakes": true,
           "showland": true,
           "subunitcolor": "white"
          },
          "hoverlabel": {
           "align": "left"
          },
          "hovermode": "closest",
          "mapbox": {
           "style": "light"
          },
          "paper_bgcolor": "white",
          "plot_bgcolor": "#E5ECF6",
          "polar": {
           "angularaxis": {
            "gridcolor": "white",
            "linecolor": "white",
            "ticks": ""
           },
           "bgcolor": "#E5ECF6",
           "radialaxis": {
            "gridcolor": "white",
            "linecolor": "white",
            "ticks": ""
           }
          },
          "scene": {
           "xaxis": {
            "backgroundcolor": "#E5ECF6",
            "gridcolor": "white",
            "gridwidth": 2,
            "linecolor": "white",
            "showbackground": true,
            "ticks": "",
            "zerolinecolor": "white"
           },
           "yaxis": {
            "backgroundcolor": "#E5ECF6",
            "gridcolor": "white",
            "gridwidth": 2,
            "linecolor": "white",
            "showbackground": true,
            "ticks": "",
            "zerolinecolor": "white"
           },
           "zaxis": {
            "backgroundcolor": "#E5ECF6",
            "gridcolor": "white",
            "gridwidth": 2,
            "linecolor": "white",
            "showbackground": true,
            "ticks": "",
            "zerolinecolor": "white"
           }
          },
          "shapedefaults": {
           "line": {
            "color": "#2a3f5f"
           }
          },
          "ternary": {
           "aaxis": {
            "gridcolor": "white",
            "linecolor": "white",
            "ticks": ""
           },
           "baxis": {
            "gridcolor": "white",
            "linecolor": "white",
            "ticks": ""
           },
           "bgcolor": "#E5ECF6",
           "caxis": {
            "gridcolor": "white",
            "linecolor": "white",
            "ticks": ""
           }
          },
          "title": {
           "x": 0.05
          },
          "xaxis": {
           "automargin": true,
           "gridcolor": "white",
           "linecolor": "white",
           "ticks": "",
           "title": {
            "standoff": 15
           },
           "zerolinecolor": "white",
           "zerolinewidth": 2
          },
          "yaxis": {
           "automargin": true,
           "gridcolor": "white",
           "linecolor": "white",
           "ticks": "",
           "title": {
            "standoff": 15
           },
           "zerolinecolor": "white",
           "zerolinewidth": 2
          }
         }
        },
        "title": {
         "text": "Title"
        }
       }
      },
      "image/png": "[encoded data removed]",
      "text/html": [
       "<div>                            <div id=\"b2d0bc73-441a-4c6a-a706-6c30b94c655c\" class=\"plotly-graph-div\" style=\"height:525px; width:100%;\"></div>            <script type=\"text/javascript\">                require([\"plotly\"], function(Plotly) {                    window.PLOTLYENV=window.PLOTLYENV || {};                                    if (document.getElementById(\"b2d0bc73-441a-4c6a-a706-6c30b94c655c\")) {                    Plotly.newPlot(                        \"b2d0bc73-441a-4c6a-a706-6c30b94c655c\",                        [{\"coloraxis\":\"coloraxis\",\"geo\":\"geo\",\"hovertemplate\":\"country_iso3=%{location}<br>count_pct=%{z}<extra></extra>\",\"locations\":[\"TWN\",\"AGO\",\"NLD\",\"GUY\",\"SEN\",\"DZA\",\"MOZ\",\"CHE\",\"YEM\",\"BRB\",\"COD\",\"PRT\",\"GMB\",\"GAB\",\"QAT\",\"SRB\",\"GTM\",\"WSM\",\"HTI\",\"MUS\",\"CAF\",\"THA\",\"SAU\",\"PER\",\"JPN\",\"ITA\",\"COL\",\"AUS\",\"LAO\",\"BEL\",\"KOR\",\"BFA\",\"DEU\",\"MDG\",\"POL\",\"HKG\",\"SDN\",\"BTN\",\"ERI\",\"ARG\",\"GRC\",\"TUN\",\"UZB\",\"ALB\",\"NER\",\"BLZ\",\"BRA\",\"SWZ\",\"ALA\",\"FJI\",\"KGZ\",\"IOT\",\"ESP\",\"ROU\",\"AZE\",\"MEX\",\"LBY\",\"BWA\",\"TCD\",\"MAR\",\"SGP\",\"CIV\",\"TGO\",\"MMR\",\"GBR\",\"SSD\",\"RUS\",\"MYS\",\"CAN\",\"BEN\",\"SLE\",\"EGY\",\"IRQ\",\"LKA\",\"RWA\",\"TUR\",\"LBR\",\"LSO\",\"SOM\",\"VNM\",\"IDN\",\"CHN\",\"UGA\",\"AFG\",\"CMR\",\"TZA\",\"ZMB\",\"MWI\",\"ZWE\",\"USA\",\"ZAF\",\"NPL\",\"PHL\",\"GHA\",\"ETH\",\"BGD\",\"KEN\",\"IND\",\"PAK\",\"NGA\"],\"name\":\"\",\"z\":[0.0749063670411985,0.0749063670411985,0.0749063670411985,0.0749063670411985,0.0749063670411985,0.0749063670411985,0.0749063670411985,0.0749063670411985,0.0749063670411985,0.0749063670411985,0.0749063670411985,0.0749063670411985,0.0749063670411985,0.0749063670411985,0.0749063670411985,0.0749063670411985,0.0749063670411985,0.0749063670411985,0.0749063670411985,0.0749063670411985,0.0749063670411985,0.0749063670411985,0.0749063670411985,0.0749063670411985,0.0749063670411985,0.0749063670411985,0.0749063670411985,0.0749063670411985,0.0749063670411985,0.0749063670411985,0.149812734082397,0.149812734082397,0.149812734082397,0.149812734082397,0.149812734082397,0.149812734082397,0.149812734082397,0.149812734082397,0.149812734082397,0.149812734082397,0.149812734082397,0.149812734082397,0.149812734082397,0.149812734082397,0.149812734082397,0.149812734082397,0.149812734082397,0.149812734082397,0.149812734082397,0.149812734082397,0.149812734082397,0.149812734082397,0.149812734082397,0.149812734082397,0.22471910112359553,0.22471910112359553,0.22471910112359553,0.22471910112359553,0.299625468164794,0.299625468164794,0.299625468164794,0.299625468164794,0.299625468164794,0.299625468164794,0.37453183520599254,0.37453183520599254,0.37453183520599254,0.37453183520599254,0.37453183520599254,0.44943820224719105,0.44943820224719105,0.5243445692883896,0.599250936329588,0.599250936329588,0.6741573033707865,0.6741573033707865,0.7490636704119851,0.7490636704119851,0.8239700374531835,0.8239700374531835,0.9737827715355805,0.9737827715355805,0.9737827715355805,1.1235955056179776,1.1235955056179776,1.198501872659176,1.198501872659176,1.2734082397003745,1.647940074906367,1.7228464419475655,1.7228464419475655,1.8726591760299627,2.696629213483146,3.295880149812734,4.868913857677903,5.093632958801498,5.842696629213483,10.037453183520599,10.337078651685392,24.49438202247191],\"type\":\"choropleth\"}],                        {\"template\":{\"data\":{\"histogram2dcontour\":[{\"type\":\"histogram2dcontour\",\"colorbar\":{\"outlinewidth\":0,\"ticks\":\"\"},\"colorscale\":[[0.0,\"#0d0887\"],[0.1111111111111111,\"#46039f\"],[0.2222222222222222,\"#7201a8\"],[0.3333333333333333,\"#9c179e\"],[0.4444444444444444,\"#bd3786\"],[0.5555555555555556,\"#d8576b\"],[0.6666666666666666,\"#ed7953\"],[0.7777777777777778,\"#fb9f3a\"],[0.8888888888888888,\"#fdca26\"],[1.0,\"#f0f921\"]]}],\"choropleth\":[{\"type\":\"choropleth\",\"colorbar\":{\"outlinewidth\":0,\"ticks\":\"\"}}],\"histogram2d\":[{\"type\":\"histogram2d\",\"colorbar\":{\"outlinewidth\":0,\"ticks\":\"\"},\"colorscale\":[[0.0,\"#0d0887\"],[0.1111111111111111,\"#46039f\"],[0.2222222222222222,\"#7201a8\"],[0.3333333333333333,\"#9c179e\"],[0.4444444444444444,\"#bd3786\"],[0.5555555555555556,\"#d8576b\"],[0.6666666666666666,\"#ed7953\"],[0.7777777777777778,\"#fb9f3a\"],[0.8888888888888888,\"#fdca26\"],[1.0,\"#f0f921\"]]}],\"heatmap\":[{\"type\":\"heatmap\",\"colorbar\":{\"outlinewidth\":0,\"ticks\":\"\"},\"colorscale\":[[0.0,\"#0d0887\"],[0.1111111111111111,\"#46039f\"],[0.2222222222222222,\"#7201a8\"],[0.3333333333333333,\"#9c179e\"],[0.4444444444444444,\"#bd3786\"],[0.5555555555555556,\"#d8576b\"],[0.6666666666666666,\"#ed7953\"],[0.7777777777777778,\"#fb9f3a\"],[0.8888888888888888,\"#fdca26\"],[1.0,\"#f0f921\"]]}],\"heatmapgl\":[{\"type\":\"heatmapgl\",\"colorbar\":{\"outlinewidth\":0,\"ticks\":\"\"},\"colorscale\":[[0.0,\"#0d0887\"],[0.1111111111111111,\"#46039f\"],[0.2222222222222222,\"#7201a8\"],[0.3333333333333333,\"#9c179e\"],[0.4444444444444444,\"#bd3786\"],[0.5555555555555556,\"#d8576b\"],[0.6666666666666666,\"#ed7953\"],[0.7777777777777778,\"#fb9f3a\"],[0.8888888888888888,\"#fdca26\"],[1.0,\"#f0f921\"]]}],\"contourcarpet\":[{\"type\":\"contourcarpet\",\"colorbar\":{\"outlinewidth\":0,\"ticks\":\"\"}}],\"contour\":[{\"type\":\"contour\",\"colorbar\":{\"outlinewidth\":0,\"ticks\":\"\"},\"colorscale\":[[0.0,\"#0d0887\"],[0.1111111111111111,\"#46039f\"],[0.2222222222222222,\"#7201a8\"],[0.3333333333333333,\"#9c179e\"],[0.4444444444444444,\"#bd3786\"],[0.5555555555555556,\"#d8576b\"],[0.6666666666666666,\"#ed7953\"],[0.7777777777777778,\"#fb9f3a\"],[0.8888888888888888,\"#fdca26\"],[1.0,\"#f0f921\"]]}],\"surface\":[{\"type\":\"surface\",\"colorbar\":{\"outlinewidth\":0,\"ticks\":\"\"},\"colorscale\":[[0.0,\"#0d0887\"],[0.1111111111111111,\"#46039f\"],[0.2222222222222222,\"#7201a8\"],[0.3333333333333333,\"#9c179e\"],[0.4444444444444444,\"#bd3786\"],[0.5555555555555556,\"#d8576b\"],[0.6666666666666666,\"#ed7953\"],[0.7777777777777778,\"#fb9f3a\"],[0.8888888888888888,\"#fdca26\"],[1.0,\"#f0f921\"]]}],\"mesh3d\":[{\"type\":\"mesh3d\",\"colorbar\":{\"outlinewidth\":0,\"ticks\":\"\"}}],\"scatter\":[{\"fillpattern\":{\"fillmode\":\"overlay\",\"size\":10,\"solidity\":0.2},\"type\":\"scatter\"}],\"parcoords\":[{\"type\":\"parcoords\",\"line\":{\"colorbar\":{\"outlinewidth\":0,\"ticks\":\"\"}}}],\"scatterpolargl\":[{\"type\":\"scatterpolargl\",\"marker\":{\"colorbar\":{\"outlinewidth\":0,\"ticks\":\"\"}}}],\"bar\":[{\"error_x\":{\"color\":\"#2a3f5f\"},\"error_y\":{\"color\":\"#2a3f5f\"},\"marker\":{\"line\":{\"color\":\"#E5ECF6\",\"width\":0.5},\"pattern\":{\"fillmode\":\"overlay\",\"size\":10,\"solidity\":0.2}},\"type\":\"bar\"}],\"scattergeo\":[{\"type\":\"scattergeo\",\"marker\":{\"colorbar\":{\"outlinewidth\":0,\"ticks\":\"\"}}}],\"scatterpolar\":[{\"type\":\"scatterpolar\",\"marker\":{\"colorbar\":{\"outlinewidth\":0,\"ticks\":\"\"}}}],\"histogram\":[{\"marker\":{\"pattern\":{\"fillmode\":\"overlay\",\"size\":10,\"solidity\":0.2}},\"type\":\"histogram\"}],\"scattergl\":[{\"type\":\"scattergl\",\"marker\":{\"colorbar\":{\"outlinewidth\":0,\"ticks\":\"\"}}}],\"scatter3d\":[{\"type\":\"scatter3d\",\"line\":{\"colorbar\":{\"outlinewidth\":0,\"ticks\":\"\"}},\"marker\":{\"colorbar\":{\"outlinewidth\":0,\"ticks\":\"\"}}}],\"scattermapbox\":[{\"type\":\"scattermapbox\",\"marker\":{\"colorbar\":{\"outlinewidth\":0,\"ticks\":\"\"}}}],\"scatterternary\":[{\"type\":\"scatterternary\",\"marker\":{\"colorbar\":{\"outlinewidth\":0,\"ticks\":\"\"}}}],\"scattercarpet\":[{\"type\":\"scattercarpet\",\"marker\":{\"colorbar\":{\"outlinewidth\":0,\"ticks\":\"\"}}}],\"carpet\":[{\"aaxis\":{\"endlinecolor\":\"#2a3f5f\",\"gridcolor\":\"white\",\"linecolor\":\"white\",\"minorgridcolor\":\"white\",\"startlinecolor\":\"#2a3f5f\"},\"baxis\":{\"endlinecolor\":\"#2a3f5f\",\"gridcolor\":\"white\",\"linecolor\":\"white\",\"minorgridcolor\":\"white\",\"startlinecolor\":\"#2a3f5f\"},\"type\":\"carpet\"}],\"table\":[{\"cells\":{\"fill\":{\"color\":\"#EBF0F8\"},\"line\":{\"color\":\"white\"}},\"header\":{\"fill\":{\"color\":\"#C8D4E3\"},\"line\":{\"color\":\"white\"}},\"type\":\"table\"}],\"barpolar\":[{\"marker\":{\"line\":{\"color\":\"#E5ECF6\",\"width\":0.5},\"pattern\":{\"fillmode\":\"overlay\",\"size\":10,\"solidity\":0.2}},\"type\":\"barpolar\"}],\"pie\":[{\"automargin\":true,\"type\":\"pie\"}]},\"layout\":{\"autotypenumbers\":\"strict\",\"colorway\":[\"#636efa\",\"#EF553B\",\"#00cc96\",\"#ab63fa\",\"#FFA15A\",\"#19d3f3\",\"#FF6692\",\"#B6E880\",\"#FF97FF\",\"#FECB52\"],\"font\":{\"color\":\"#2a3f5f\"},\"hovermode\":\"closest\",\"hoverlabel\":{\"align\":\"left\"},\"paper_bgcolor\":\"white\",\"plot_bgcolor\":\"#E5ECF6\",\"polar\":{\"bgcolor\":\"#E5ECF6\",\"angularaxis\":{\"gridcolor\":\"white\",\"linecolor\":\"white\",\"ticks\":\"\"},\"radialaxis\":{\"gridcolor\":\"white\",\"linecolor\":\"white\",\"ticks\":\"\"}},\"ternary\":{\"bgcolor\":\"#E5ECF6\",\"aaxis\":{\"gridcolor\":\"white\",\"linecolor\":\"white\",\"ticks\":\"\"},\"baxis\":{\"gridcolor\":\"white\",\"linecolor\":\"white\",\"ticks\":\"\"},\"caxis\":{\"gridcolor\":\"white\",\"linecolor\":\"white\",\"ticks\":\"\"}},\"coloraxis\":{\"colorbar\":{\"outlinewidth\":0,\"ticks\":\"\"}},\"colorscale\":{\"sequential\":[[0.0,\"#0d0887\"],[0.1111111111111111,\"#46039f\"],[0.2222222222222222,\"#7201a8\"],[0.3333333333333333,\"#9c179e\"],[0.4444444444444444,\"#bd3786\"],[0.5555555555555556,\"#d8576b\"],[0.6666666666666666,\"#ed7953\"],[0.7777777777777778,\"#fb9f3a\"],[0.8888888888888888,\"#fdca26\"],[1.0,\"#f0f921\"]],\"sequentialminus\":[[0.0,\"#0d0887\"],[0.1111111111111111,\"#46039f\"],[0.2222222222222222,\"#7201a8\"],[0.3333333333333333,\"#9c179e\"],[0.4444444444444444,\"#bd3786\"],[0.5555555555555556,\"#d8576b\"],[0.6666666666666666,\"#ed7953\"],[0.7777777777777778,\"#fb9f3a\"],[0.8888888888888888,\"#fdca26\"],[1.0,\"#f0f921\"]],\"diverging\":[[0,\"#8e0152\"],[0.1,\"#c51b7d\"],[0.2,\"#de77ae\"],[0.3,\"#f1b6da\"],[0.4,\"#fde0ef\"],[0.5,\"#f7f7f7\"],[0.6,\"#e6f5d0\"],[0.7,\"#b8e186\"],[0.8,\"#7fbc41\"],[0.9,\"#4d9221\"],[1,\"#276419\"]]},\"xaxis\":{\"gridcolor\":\"white\",\"linecolor\":\"white\",\"ticks\":\"\",\"title\":{\"standoff\":15},\"zerolinecolor\":\"white\",\"automargin\":true,\"zerolinewidth\":2},\"yaxis\":{\"gridcolor\":\"white\",\"linecolor\":\"white\",\"ticks\":\"\",\"title\":{\"standoff\":15},\"zerolinecolor\":\"white\",\"automargin\":true,\"zerolinewidth\":2},\"scene\":{\"xaxis\":{\"backgroundcolor\":\"#E5ECF6\",\"gridcolor\":\"white\",\"linecolor\":\"white\",\"showbackground\":true,\"ticks\":\"\",\"zerolinecolor\":\"white\",\"gridwidth\":2},\"yaxis\":{\"backgroundcolor\":\"#E5ECF6\",\"gridcolor\":\"white\",\"linecolor\":\"white\",\"showbackground\":true,\"ticks\":\"\",\"zerolinecolor\":\"white\",\"gridwidth\":2},\"zaxis\":{\"backgroundcolor\":\"#E5ECF6\",\"gridcolor\":\"white\",\"linecolor\":\"white\",\"showbackground\":true,\"ticks\":\"\",\"zerolinecolor\":\"white\",\"gridwidth\":2}},\"shapedefaults\":{\"line\":{\"color\":\"#2a3f5f\"}},\"annotationdefaults\":{\"arrowcolor\":\"#2a3f5f\",\"arrowhead\":0,\"arrowwidth\":1},\"geo\":{\"bgcolor\":\"white\",\"landcolor\":\"#E5ECF6\",\"subunitcolor\":\"white\",\"showland\":true,\"showlakes\":true,\"lakecolor\":\"white\"},\"title\":{\"x\":0.05},\"mapbox\":{\"style\":\"light\"}}},\"geo\":{\"domain\":{\"x\":[0.0,1.0],\"y\":[0.0,1.0]},\"projection\":{\"type\":\"natural earth\"},\"center\":{}},\"coloraxis\":{\"colorbar\":{\"title\":{\"text\":\"count_pct\"}},\"colorscale\":[[0.0,\"rgb(255,245,235)\"],[0.125,\"rgb(254,230,206)\"],[0.25,\"rgb(253,208,162)\"],[0.375,\"rgb(253,174,107)\"],[0.5,\"rgb(253,141,60)\"],[0.625,\"rgb(241,105,19)\"],[0.75,\"rgb(217,72,1)\"],[0.875,\"rgb(166,54,3)\"],[1.0,\"rgb(127,39,4)\"]]},\"legend\":{\"tracegroupgap\":0},\"title\":{\"text\":\"Title\"}},                        {\"responsive\": true}                    ).then(function(){\n",
       "                            \n",
       "var gd = document.getElementById('b2d0bc73-441a-4c6a-a706-6c30b94c655c');\n",
       "var x = new MutationObserver(function (mutations, observer) {{\n",
       "        var display = window.getComputedStyle(gd).display;\n",
       "        if (!display || display === 'none') {{\n",
       "            console.log([gd, 'removed!']);\n",
       "            Plotly.purge(gd);\n",
       "            observer.disconnect();\n",
       "        }}\n",
       "}});\n",
       "\n",
       "// Listen for the removal of the full notebook cells\n",
       "var notebookContainer = gd.closest('#notebook-container');\n",
       "if (notebookContainer) {{\n",
       "    x.observe(notebookContainer, {childList: true});\n",
       "}}\n",
       "\n",
       "// Listen for the clearing of the current output cell\n",
       "var outputEl = gd.closest('.output');\n",
       "if (outputEl) {{\n",
       "    x.observe(outputEl, {childList: true});\n",
       "}}\n",
       "\n",
       "                        })                };                });            </script>        </div>"
      ]
     },
     "metadata": {},
     "output_type": "display_data"
    }
   ],
   "source": [
    "# Create `build_nat_choropleth` function\n",
    "df_nationality[\"count_pct\"] = (df_nationality[\"count\"] / df_nationality[\"count\"].sum()) * 100\n",
    "\n",
    "\n",
    "def build_nat_choropleth():\n",
    "    fig = px.choropleth(\n",
    "        data_frame= df_nationality,\n",
    "        locations=\"country_iso3\",\n",
    "        color=\"count_pct\",\n",
    "        projection=\"natural earth\",\n",
    "        color_continuous_scale=px.colors.sequential.Oranges,\n",
    "        title=\"Title\"\n",
    "    )\n",
    "    return fig\n",
    "\n",
    "# Don't delete the code below 👇\n",
    "nat_fig = build_nat_choropleth()\n",
    "nat_fig.write_image(\"images/7-5-4.png\", scale=1, height=500, width=700)\n",
    "\n",
    "nat_fig.show()"
   ]
  },
  {
   "cell_type": "code",
   "execution_count": 88,
   "id": "440c4ac8-2449-4250-840f-6ec5e2b3c8ee",
   "metadata": {
    "deletable": false,
    "editable": false
   },
   "outputs": [
    {
     "data": {
      "text/html": [
       "\n",
       "    <div class=\"wqet-result\">\n",
       "      <div class=\"animation\">\n",
       "        <svg class=\"checkmark\" xmlns=\"http://www.w3.org/2000/svg\" viewBox=\"0 0 52 52\">\n",
       "          <circle class=\"checkmark__circle\" cx=\"26\" cy=\"26\" r=\"25\" fill=\"none\"/>\n",
       "          <path class=\"checkmark__check\" fill=\"none\" d=\"M14.1 27.2l7.1 7.2 16.7-16.8\"/>\n",
       "        </svg>\n",
       "      </div>\n",
       "      <div class=\"details\">\n",
       "        <p class=\"title\"><p>That's the right answer. Keep it up!</p></p>\n",
       "        <p>Score: 1</p>\n",
       "      </div>\n",
       "    </div>\n"
      ],
      "text/plain": [
       "<IPython.core.display.HTML object>"
      ]
     },
     "metadata": {},
     "output_type": "display_data"
    }
   ],
   "source": [
    "with open(\"images/7-5-4.png\", \"rb\") as file:\n",
    "    wqet_grader.grade(\"Project 7 Assessment\", \"Task 7.5.4\", file)"
   ]
  },
  {
   "cell_type": "markdown",
   "id": "92cf4cc6-1006-4bbd-8232-5bd55de222cb",
   "metadata": {
    "deletable": false,
    "editable": false
   },
   "source": [
    "# ETL"
   ]
  },
  {
   "cell_type": "markdown",
   "id": "5904b4c6-5164-4931-b7ad-90882deed704",
   "metadata": {
    "deletable": false,
    "editable": false
   },
   "source": [
    "In this section, you'll build a `MongoRepository` class. There are several tasks that will evaluate your class definition. You'll write your code in the cell below, and then submit each of those tasks one-by-one later on. "
   ]
  },
  {
   "cell_type": "code",
   "execution_count": 89,
   "id": "26a57508-e2c4-4951-8a90-767672d7ab4d",
   "metadata": {
    "deletable": false
   },
   "outputs": [],
   "source": [
    "class MongoRepository:\n",
    "    \"\"\"Repository class for interacting with MongoDB database.\n",
    "\n",
    "    Parameters\n",
    "    ----------\n",
    "    client : `pymongo.MongoClient`\n",
    "        By default, `MongoClient(host='localhost', port=27017)`.\n",
    "    db : str\n",
    "        By default, `'wqu-abtest'`.\n",
    "    collection : str\n",
    "        By default, `'mscfe-applicants'`.\n",
    "\n",
    "    Attributes\n",
    "    ----------\n",
    "    collection : pymongo.collection.Collection\n",
    "        All data will be extracted from and loaded to this collection.\n",
    "    \"\"\"\n",
    "\n",
    "    # Task 7.5.5: `__init__` method\n",
    "    def __init__(\n",
    "        self,\n",
    "        client=MongoClient(host='localhost', port=27017),\n",
    "        db='wqu-abtest',\n",
    "        collection=\"mscfe-applicants\"\n",
    "    ):\n",
    "        self.collection = client[db][collection]\n",
    "\n",
    "    # Task 7.5.6: `find_by_date` method\n",
    "    def find_by_date(self, date_string=\"2022-06-01\"):\n",
    "        # Convert `date_string` to datetime object\n",
    "        start = pd.to_datetime(date_string, format='%Y-%m-%d')\n",
    "        # Offset `start` by 1 day\n",
    "        end = start + pd.DateOffset(days=1)\n",
    "        # Create PyMongo query for no-quiz applicants b/t `start` and `end`\n",
    "        query = {\"createdAt\": {\"$gte\": start, \"$lt\": end}, \"admissionsQuiz\": \"incomplete\"}\n",
    "        # Query collection, get result\n",
    "        result = self.collection.find(query)\n",
    "        # Convert `result` to list\n",
    "        observations = list(result)\n",
    "        return observations\n",
    "\n",
    "    # Task 7.5.7: `update_applicants` method\n",
    "    def update_applicants(self, observations_assigned):\n",
    "        # Initalize counters\n",
    "        n = 0\n",
    "        n_modified = 0\n",
    "\n",
    "        # Itearate through applicants\n",
    "        for doc in observations_assigned:\n",
    "            # Update doc\n",
    "            result = self.collection.update_one(\n",
    "                filter={'_id': doc['_id']},\n",
    "                update={'$set':doc}\n",
    "            )\n",
    "            # Update counters\n",
    "            n += result.matched_count\n",
    "            n_modified += result.modified_count\n",
    "\n",
    "        # Create results\n",
    "        transaction_result ={'n':n, 'nModified':n_modified}\n",
    "        return transaction_result\n",
    "\n",
    "    # Task 7.5.7: `assign_to_groups` method\n",
    "    def assign_to_groups(self, date_string=\"2022-06-02\"):\n",
    "        # Get observations\n",
    "        observations = self.find_by_date(date_string)\n",
    "        # Shuffle `observations`\n",
    "        #random.seed(42)\n",
    "        #random.shuffle(observations)\n",
    "\n",
    "        # Get index position of item at observations halfway point\n",
    "        idx = len(observations) // 2\n",
    "\n",
    "        # Assign first half of observations to control group\n",
    "        for doc in observations[:idx]:\n",
    "            doc['inExperiment'] = True\n",
    "            doc['group'] = 'no email (control)'\n",
    "\n",
    "        # Assign second half of observations to treatment group\n",
    "        for doc in observations[idx:]:\n",
    "            doc['inExperiment'] = True\n",
    "            doc['group'] = 'email (treatment)'\n",
    "        # update collection\n",
    "        result = self.update_applicants(observations)\n",
    "        return result\n",
    "\n",
    "    # Task 7.5.14: `find_exp_observations` method\n",
    "    def find_exp_observations(self):\n",
    "        # Get observations from database\n",
    "        result = self.collection.find({'inExperiment': True})\n",
    "        return list(result)"
   ]
  },
  {
   "cell_type": "markdown",
   "id": "011ae6b2-0e68-4a77-a0b1-257a2fe3b7e2",
   "metadata": {
    "deletable": false,
    "editable": false
   },
   "source": [
    "**Task 7.5.5:** Create a class definition for your `MongoRepository`, including an `__init__` function that will assign a `collection` attribute based on user input. Then create an instance of your class named `repo`. The grader will test whether `repo` is associated with the correct collection. "
   ]
  },
  {
   "cell_type": "code",
   "execution_count": 90,
   "id": "3793a843-4d38-4405-85c8-2926f456cd03",
   "metadata": {
    "deletable": false
   },
   "outputs": [
    {
     "name": "stdout",
     "output_type": "stream",
     "text": [
      "repo type: <class '__main__.MongoRepository'>\n"
     ]
    },
    {
     "data": {
      "text/plain": [
       "<__main__.MongoRepository at 0x7fc777576be0>"
      ]
     },
     "execution_count": 90,
     "metadata": {},
     "output_type": "execute_result"
    }
   ],
   "source": [
    "from pymongo import MongoClient\n",
    "# class MongoRepository:\n",
    "#     def __init__():\n",
    "        \n",
    "repo =  MongoRepository()\n",
    "print(\"repo type:\", type(repo))\n",
    "repo"
   ]
  },
  {
   "cell_type": "code",
   "execution_count": 91,
   "id": "fef1c650-205f-4271-ba34-2013c18d80f7",
   "metadata": {
    "deletable": false,
    "editable": false
   },
   "outputs": [
    {
     "data": {
      "text/html": [
       "\n",
       "    <div class=\"wqet-result\">\n",
       "      <div class=\"animation\">\n",
       "        <svg class=\"checkmark\" xmlns=\"http://www.w3.org/2000/svg\" viewBox=\"0 0 52 52\">\n",
       "          <circle class=\"checkmark__circle\" cx=\"26\" cy=\"26\" r=\"25\" fill=\"none\"/>\n",
       "          <path class=\"checkmark__check\" fill=\"none\" d=\"M14.1 27.2l7.1 7.2 16.7-16.8\"/>\n",
       "        </svg>\n",
       "      </div>\n",
       "      <div class=\"details\">\n",
       "        <p class=\"title\"><p>Excellent work.</p></p>\n",
       "        <p>Score: 1</p>\n",
       "      </div>\n",
       "    </div>\n"
      ],
      "text/plain": [
       "<IPython.core.display.HTML object>"
      ]
     },
     "metadata": {},
     "output_type": "display_data"
    }
   ],
   "source": [
    "submission = {\n",
    "    \"is_mongorepo\": isinstance(repo, MongoRepository),\n",
    "    \"repo_name\": repo.collection.name,\n",
    "}\n",
    "submission\n",
    "wqet_grader.grade(\"Project 7 Assessment\", \"Task 7.5.5\", submission)"
   ]
  },
  {
   "cell_type": "markdown",
   "id": "1a829ac6-a294-4c15-a648-bd12a0aeeed5",
   "metadata": {
    "deletable": false,
    "editable": false
   },
   "source": [
    "**Task 7.5.6:** Add a `find_by_date` method to your class definition for `MongoRepository`. The method should search the class collection and return all the no-quiz applicants from a specific date. The grader will check your method by looking for applicants whose accounts were created on **1 June 2022**."
   ]
  },
  {
   "cell_type": "markdown",
   "id": "0154609b-46cb-4849-8f22-0957e1275b07",
   "metadata": {
    "deletable": false,
    "editable": false
   },
   "source": [
    "<div class=\"alert alert-block alert-warning\">\n",
    "<p><b>Warning:</b> Once you update your class definition above, you'll need to rerun that cell and then re-instantiate <code>repo</code>. Otherwise, you won't be able to submit to the grader for this task.\n",
    "</div>"
   ]
  },
  {
   "cell_type": "code",
   "execution_count": 92,
   "id": "4b01b98b-3ca5-4cc5-a080-b27a00cb88b2",
   "metadata": {
    "deletable": false,
    "editable": false
   },
   "outputs": [
    {
     "data": {
      "text/html": [
       "\n",
       "    <div class=\"wqet-result\">\n",
       "      <div class=\"animation\">\n",
       "        <svg class=\"checkmark\" xmlns=\"http://www.w3.org/2000/svg\" viewBox=\"0 0 52 52\">\n",
       "          <circle class=\"checkmark__circle\" cx=\"26\" cy=\"26\" r=\"25\" fill=\"none\"/>\n",
       "          <path class=\"checkmark__check\" fill=\"none\" d=\"M14.1 27.2l7.1 7.2 16.7-16.8\"/>\n",
       "        </svg>\n",
       "      </div>\n",
       "      <div class=\"details\">\n",
       "        <p class=\"title\"><p>Excellent work.</p></p>\n",
       "        <p>Score: 1</p>\n",
       "      </div>\n",
       "    </div>\n"
      ],
      "text/plain": [
       "<IPython.core.display.HTML object>"
      ]
     },
     "metadata": {},
     "output_type": "display_data"
    }
   ],
   "source": [
    "submission = wqet_grader.clean_bson(repo.find_by_date(\"2022-06-01\"))\n",
    "wqet_grader.grade(\"Project 7 Assessment\", \"Task 7.5.6\", submission)"
   ]
  },
  {
   "cell_type": "markdown",
   "id": "a063aa81-a9f2-479b-bbbf-71dd1f9ff77c",
   "metadata": {
    "deletable": false,
    "editable": false
   },
   "source": [
    "**Task 7.5.7:** Add an `assign_to_groups` method to your class definition for `MongoRepository`. It should find users from that date, assign them to groups, update the database, and return the results of the transaction. In order for this method to work, you may also need to create an `update_applicants` method, too. "
   ]
  },
  {
   "cell_type": "markdown",
   "id": "fa7790f9-01bf-4f28-8f1d-09d2ffa32c05",
   "metadata": {
    "deletable": false,
    "editable": false
   },
   "source": [
    "<div class=\"alert alert-block alert-warning\">\n",
    "<p><b>Warning:</b> Once you update your class definition above, you'll need to rerun that cell and then re-instantiate <code>repo</code>. Otherwise, you won't be able to submit to the grader for this task.\n",
    "</div>"
   ]
  },
  {
   "cell_type": "code",
   "execution_count": 94,
   "id": "2d1dabf9-d9b4-4fde-9750-5a0e7dbdf92a",
   "metadata": {
    "deletable": false,
    "editable": false
   },
   "outputs": [
    {
     "data": {
      "text/html": [
       "\n",
       "    <div class=\"wqet-result\">\n",
       "      <div class=\"animation\">\n",
       "        <svg class=\"checkmark\" xmlns=\"http://www.w3.org/2000/svg\" viewBox=\"0 0 52 52\">\n",
       "          <circle class=\"checkmark__circle\" cx=\"26\" cy=\"26\" r=\"25\" fill=\"none\"/>\n",
       "          <path class=\"checkmark__check\" fill=\"none\" d=\"M14.1 27.2l7.1 7.2 16.7-16.8\"/>\n",
       "        </svg>\n",
       "      </div>\n",
       "      <div class=\"details\">\n",
       "        <p class=\"title\"><p>Yes! Keep on rockin'. 🎸That's right.</p></p>\n",
       "        <p>Score: 1</p>\n",
       "      </div>\n",
       "    </div>\n"
      ],
      "text/plain": [
       "<IPython.core.display.HTML object>"
      ]
     },
     "metadata": {},
     "output_type": "display_data"
    }
   ],
   "source": [
    "date = \"2022-06-02\"\n",
    "repo.assign_to_groups(date)\n",
    "submission = wqet_grader.clean_bson(repo.find_by_date(date))\n",
    "wqet_grader.grade(\"Project 7 Assessment\", \"Task 7.5.7\", submission)"
   ]
  },
  {
   "cell_type": "markdown",
   "id": "4f466898-11bf-4c8a-a4d8-053a9628cba8",
   "metadata": {
    "deletable": false,
    "editable": false,
    "tags": []
   },
   "source": [
    "# Experiment"
   ]
  },
  {
   "cell_type": "markdown",
   "id": "d8826a06-b893-4365-bbef-bc561d7aad65",
   "metadata": {
    "deletable": false,
    "editable": false
   },
   "source": [
    "## Prepare Experiment"
   ]
  },
  {
   "cell_type": "markdown",
   "id": "5143270f-1e91-4f97-abb9-7517cb162d35",
   "metadata": {
    "deletable": false,
    "editable": false
   },
   "source": [
    "**Task 7.5.8:** First, instantiate a `GofChisquarePower` object and assign it to the variable name `chi_square_power`. Then use it to calculate the `group_size` needed to detect a **medium** effect size of `0.5`, with an alpha of `0.05` and power of `0.8`."
   ]
  },
  {
   "cell_type": "code",
   "execution_count": 95,
   "id": "b6adb9aa-f070-4482-ab0a-ed8f2b81e63a",
   "metadata": {
    "deletable": false
   },
   "outputs": [
    {
     "name": "stdout",
     "output_type": "stream",
     "text": [
      "Group size: 32\n",
      "Total # of applicants needed: 64\n"
     ]
    }
   ],
   "source": [
    "chi_square_power = GofChisquarePower()\n",
    "group_size = math.ceil(\n",
    "    chi_square_power.solve_power(effect_size=0.5, alpha=0.05, power=0.8)\n",
    ")\n",
    "\n",
    "print(\"Group size:\", group_size)\n",
    "print(\"Total # of applicants needed:\", group_size * 2)"
   ]
  },
  {
   "cell_type": "code",
   "execution_count": 96,
   "id": "d8abba6d-a363-4668-b8a6-3f3818699282",
   "metadata": {
    "deletable": false,
    "editable": false
   },
   "outputs": [
    {
     "data": {
      "text/html": [
       "\n",
       "    <div class=\"wqet-result\">\n",
       "      <div class=\"animation\">\n",
       "        <svg class=\"checkmark\" xmlns=\"http://www.w3.org/2000/svg\" viewBox=\"0 0 52 52\">\n",
       "          <circle class=\"checkmark__circle\" cx=\"26\" cy=\"26\" r=\"25\" fill=\"none\"/>\n",
       "          <path class=\"checkmark__check\" fill=\"none\" d=\"M14.1 27.2l7.1 7.2 16.7-16.8\"/>\n",
       "        </svg>\n",
       "      </div>\n",
       "      <div class=\"details\">\n",
       "        <p class=\"title\"><p>That's the right answer. Keep it up!</p></p>\n",
       "        <p>Score: 1</p>\n",
       "      </div>\n",
       "    </div>\n"
      ],
      "text/plain": [
       "<IPython.core.display.HTML object>"
      ]
     },
     "metadata": {},
     "output_type": "display_data"
    }
   ],
   "source": [
    "# DREW: The submission should be `[group_size]` with tolerance of 0.02\n",
    "wqet_grader.grade(\"Project 7 Assessment\", \"Task 7.5.8\", [group_size])"
   ]
  },
  {
   "cell_type": "markdown",
   "id": "24e2f438-cf4a-4030-a930-4fb2bc9f77ce",
   "metadata": {
    "deletable": false,
    "editable": false
   },
   "source": [
    "**Task 7.5.9:** Calculate the number of no-quiz accounts were created each day included in the `mscfe_app` collection. The load your results into the Series `no_quiz_mscfe`. "
   ]
  },
  {
   "cell_type": "code",
   "execution_count": 97,
   "id": "0826ce54-c904-4e37-9d8d-c9efb7757a2b",
   "metadata": {
    "deletable": false
   },
   "outputs": [
    {
     "name": "stdout",
     "output_type": "stream",
     "text": [
      "no_quiz type: <class 'pandas.core.series.Series'>\n",
      "no_quiz shape: (30,)\n"
     ]
    },
    {
     "data": {
      "text/plain": [
       "date\n",
       "2022-06-01    20\n",
       "2022-06-02     9\n",
       "2022-06-03    12\n",
       "2022-06-04    15\n",
       "2022-06-05    11\n",
       "Name: new_users, dtype: int64"
      ]
     },
     "execution_count": 97,
     "metadata": {},
     "output_type": "execute_result"
    }
   ],
   "source": [
    "# Aggregate no-quiz applicants by sign-up date\n",
    "result = mscfe_app.aggregate(\n",
    "    [\n",
    "        {'$match': {'admissionsQuiz': 'incomplete'}},\n",
    "        {\n",
    "            '$group':{\n",
    "                '_id': {'$dateTrunc': {'date': '$createdAt', 'unit': 'day'}},\n",
    "                'count': {'$sum': 1}\n",
    "            }\n",
    "        }\n",
    "    ]\n",
    ")\n",
    "\n",
    "\n",
    "\n",
    "# Load result into DataFrame\n",
    "no_quiz_mscfe =  (\n",
    "    pd.DataFrame(result)\n",
    "    .rename({'_id':'date', 'count': 'new_users'}, axis=1)\n",
    "    .set_index('date')\n",
    "    .sort_index()\n",
    "    .squeeze()\n",
    ")\n",
    "\n",
    "\n",
    "print(\"no_quiz type:\", type(no_quiz_mscfe))\n",
    "print(\"no_quiz shape:\", no_quiz_mscfe.shape)\n",
    "no_quiz_mscfe.head()"
   ]
  },
  {
   "cell_type": "code",
   "execution_count": 98,
   "id": "9a6b7359-bff3-4b34-9b40-668b5806eb41",
   "metadata": {
    "deletable": false,
    "editable": false
   },
   "outputs": [
    {
     "data": {
      "text/html": [
       "\n",
       "    <div class=\"wqet-result\">\n",
       "      <div class=\"animation\">\n",
       "        <svg class=\"checkmark\" xmlns=\"http://www.w3.org/2000/svg\" viewBox=\"0 0 52 52\">\n",
       "          <circle class=\"checkmark__circle\" cx=\"26\" cy=\"26\" r=\"25\" fill=\"none\"/>\n",
       "          <path class=\"checkmark__check\" fill=\"none\" d=\"M14.1 27.2l7.1 7.2 16.7-16.8\"/>\n",
       "        </svg>\n",
       "      </div>\n",
       "      <div class=\"details\">\n",
       "        <p class=\"title\"><p>Yes! Your hard work is paying off.</p></p>\n",
       "        <p>Score: 1</p>\n",
       "      </div>\n",
       "    </div>\n"
      ],
      "text/plain": [
       "<IPython.core.display.HTML object>"
      ]
     },
     "metadata": {},
     "output_type": "display_data"
    }
   ],
   "source": [
    "wqet_grader.grade(\"Project 7 Assessment\", \"Task 7.5.9\", no_quiz_mscfe)\n"
   ]
  },
  {
   "cell_type": "markdown",
   "id": "2de23fbe-7c7f-4b11-a230-1faf7882cbb5",
   "metadata": {
    "deletable": false,
    "editable": false
   },
   "source": [
    "**Task 7.5.10:** Calculate the mean and standard deviation of the values in `no_quiz_mscfe`, and assign them to the variables `mean` and `std`, respectively."
   ]
  },
  {
   "cell_type": "code",
   "execution_count": 99,
   "id": "60c0600c-4f8c-4f95-9f59-2076025854bd",
   "metadata": {
    "deletable": false
   },
   "outputs": [
    {
     "name": "stdout",
     "output_type": "stream",
     "text": [
      "no_quiz mean: 12.133333333333333\n",
      "no_quiz std: 3.170264139254595\n"
     ]
    }
   ],
   "source": [
    "mean = no_quiz_mscfe.describe()['mean']\n",
    "std = no_quiz_mscfe.describe()['std']\n",
    "print(\"no_quiz mean:\", mean)\n",
    "print(\"no_quiz std:\", std)"
   ]
  },
  {
   "cell_type": "code",
   "execution_count": 100,
   "id": "f08d7c21-800c-4314-aba4-685cde44de3c",
   "metadata": {
    "deletable": false,
    "editable": false
   },
   "outputs": [
    {
     "data": {
      "text/html": [
       "\n",
       "    <div class=\"wqet-result\">\n",
       "      <div class=\"animation\">\n",
       "        <svg class=\"checkmark\" xmlns=\"http://www.w3.org/2000/svg\" viewBox=\"0 0 52 52\">\n",
       "          <circle class=\"checkmark__circle\" cx=\"26\" cy=\"26\" r=\"25\" fill=\"none\"/>\n",
       "          <path class=\"checkmark__check\" fill=\"none\" d=\"M14.1 27.2l7.1 7.2 16.7-16.8\"/>\n",
       "        </svg>\n",
       "      </div>\n",
       "      <div class=\"details\">\n",
       "        <p class=\"title\"><p>Party time! 🎉🎉🎉</p></p>\n",
       "        <p>Score: 1</p>\n",
       "      </div>\n",
       "    </div>\n"
      ],
      "text/plain": [
       "<IPython.core.display.HTML object>"
      ]
     },
     "metadata": {},
     "output_type": "display_data"
    }
   ],
   "source": [
    "submission = {\"mean\": mean, \"std\": std}\n",
    "submission\n",
    "wqet_grader.grade(\"Project 7 Assessment\", \"Task 7.5.10\", submission)"
   ]
  },
  {
   "cell_type": "markdown",
   "id": "0d368039-8c35-47eb-96eb-8bde7852af5b",
   "metadata": {
    "deletable": false,
    "editable": false
   },
   "source": [
    "**Ungraded Task:** Complete the code below so that it calculates the mean and standard deviation of the probability distribution for the total number of days assigned to `exp_days`."
   ]
  },
  {
   "cell_type": "code",
   "execution_count": 101,
   "id": "d0fa8052-6032-429c-9522-1c24b4f553cd",
   "metadata": {
    "deletable": false
   },
   "outputs": [
    {
     "name": "stdout",
     "output_type": "stream",
     "text": [
      "Mean of sum: 84.93333333333334\n",
      "Std of sum: 8.3877305028539\n"
     ]
    }
   ],
   "source": [
    "exp_days =  7\n",
    "sum_mean =  mean * exp_days\n",
    "sum_std =std * np.sqrt(exp_days)\n",
    "print(\"Mean of sum:\", sum_mean)\n",
    "print(\"Std of sum:\", sum_std)"
   ]
  },
  {
   "cell_type": "markdown",
   "id": "bd1db094-05e3-4e70-8f19-47c29dcbe98c",
   "metadata": {
    "deletable": false,
    "editable": false
   },
   "source": [
    "**Task 7.5.11:** Using the `group_size` you calculated earlier and the code you wrote in the previous task, determine how many days you must run your experiment so that you have a 95% or greater chance of getting a sufficient number of observations. Keep in mind that you want to run your experiment for the fewest number of days possible, and no more. "
   ]
  },
  {
   "cell_type": "code",
   "execution_count": 102,
   "id": "000c3019-8ae2-447b-8385-7dcfdf8c3440",
   "metadata": {
    "deletable": false
   },
   "outputs": [
    {
     "name": "stdout",
     "output_type": "stream",
     "text": [
      "Probability of getting 65+ no_quiz in 7 days: 0.994\n"
     ]
    }
   ],
   "source": [
    "prob_65_or_fewer = scipy.stats.norm.cdf(\n",
    "    group_size * 2,\n",
    "    loc=sum_mean,\n",
    "    scale=sum_std\n",
    ")\n",
    "prob_65_or_greater = 1 - prob_65_or_fewer\n",
    "\n",
    "print(\n",
    "    f\"Probability of getting 65+ no_quiz in {exp_days} days:\",\n",
    "    round(prob_65_or_greater, 3),\n",
    ")"
   ]
  },
  {
   "cell_type": "code",
   "execution_count": 103,
   "id": "594cfa3c-389b-4184-a02f-a069ea350587",
   "metadata": {
    "deletable": false,
    "editable": false
   },
   "outputs": [
    {
     "data": {
      "text/html": [
       "\n",
       "    <div class=\"wqet-result\">\n",
       "      <div class=\"animation\">\n",
       "        <svg class=\"checkmark\" xmlns=\"http://www.w3.org/2000/svg\" viewBox=\"0 0 52 52\">\n",
       "          <circle class=\"checkmark__circle\" cx=\"26\" cy=\"26\" r=\"25\" fill=\"none\"/>\n",
       "          <path class=\"checkmark__check\" fill=\"none\" d=\"M14.1 27.2l7.1 7.2 16.7-16.8\"/>\n",
       "        </svg>\n",
       "      </div>\n",
       "      <div class=\"details\">\n",
       "        <p class=\"title\"><p>Boom! You got it.</p></p>\n",
       "        <p>Score: 1</p>\n",
       "      </div>\n",
       "    </div>\n"
      ],
      "text/plain": [
       "<IPython.core.display.HTML object>"
      ]
     },
     "metadata": {},
     "output_type": "display_data"
    }
   ],
   "source": [
    "submission = {\"days\": exp_days, \"probability\": prob_65_or_greater}\n",
    "submission\n",
    "wqet_grader.grade(\"Project 7 Assessment\", \"Task 7.5.11\", submission)"
   ]
  },
  {
   "cell_type": "markdown",
   "id": "be655a8a-f103-4709-9e5e-aaf630a5d04e",
   "metadata": {
    "deletable": false,
    "editable": false
   },
   "source": [
    "## Run Experiment"
   ]
  },
  {
   "cell_type": "markdown",
   "id": "924dc478-4183-4936-b12e-a2ec17dcffdd",
   "metadata": {
    "deletable": false,
    "editable": false
   },
   "source": [
    "**Task 7.5.12:** Using the `Experiment` object created below, run your experiment for the appropriate number of days."
   ]
  },
  {
   "cell_type": "code",
   "execution_count": 104,
   "id": "3d831859-59b5-4bc8-833b-29038f59d75c",
   "metadata": {
    "deletable": false,
    "editable": false
   },
   "outputs": [
    {
     "name": "stdout",
     "output_type": "stream",
     "text": [
      "result type: <class 'dict'>\n"
     ]
    },
    {
     "data": {
      "text/plain": [
       "{'acknowledged': True, 'inserted_count': 301}"
      ]
     },
     "execution_count": 104,
     "metadata": {},
     "output_type": "execute_result"
    }
   ],
   "source": [
    "exp = Experiment(repo=client, db=\"wqu-abtest\", collection=\"mscfe-applicants\")\n",
    "exp.reset_experiment()\n",
    "result = exp.run_experiment(days=exp_days, assignment=True)\n",
    "print(\"result type:\", type(result))\n",
    "result"
   ]
  },
  {
   "cell_type": "code",
   "execution_count": 105,
   "id": "20d92a41-aa37-4de9-9de1-e0cf351621aa",
   "metadata": {
    "deletable": false,
    "editable": false
   },
   "outputs": [
    {
     "data": {
      "text/html": [
       "\n",
       "    <div class=\"wqet-result\">\n",
       "      <div class=\"animation\">\n",
       "        <svg class=\"checkmark\" xmlns=\"http://www.w3.org/2000/svg\" viewBox=\"0 0 52 52\">\n",
       "          <circle class=\"checkmark__circle\" cx=\"26\" cy=\"26\" r=\"25\" fill=\"none\"/>\n",
       "          <path class=\"checkmark__check\" fill=\"none\" d=\"M14.1 27.2l7.1 7.2 16.7-16.8\"/>\n",
       "        </svg>\n",
       "      </div>\n",
       "      <div class=\"details\">\n",
       "        <p class=\"title\"><p>🥳</p></p>\n",
       "        <p>Score: 1</p>\n",
       "      </div>\n",
       "    </div>\n"
      ],
      "text/plain": [
       "<IPython.core.display.HTML object>"
      ]
     },
     "metadata": {},
     "output_type": "display_data"
    }
   ],
   "source": [
    "wqet_grader.grade(\"Project 7 Assessment\", \"Task 7.5.12\", result)"
   ]
  },
  {
   "cell_type": "markdown",
   "id": "fe3a0259-49a6-432b-bcb2-916a7387a76f",
   "metadata": {
    "deletable": false,
    "editable": false
   },
   "source": [
    "## Analyze Results"
   ]
  },
  {
   "cell_type": "markdown",
   "id": "49e8be6b-7457-4733-8af0-1937e6016f2b",
   "metadata": {
    "deletable": false,
    "editable": false
   },
   "source": [
    "**Task 7.5.13:** Add a `find_exp_observations` method to your `MongoRepository` class. It should return all the observations from the class collection that were part of the experiment."
   ]
  },
  {
   "cell_type": "markdown",
   "id": "492c8bcd-d96b-4753-92fa-648e71045855",
   "metadata": {
    "deletable": false,
    "editable": false
   },
   "source": [
    "<div class=\"alert alert-block alert-warning\">\n",
    "<p><b>Warning:</b> Once you update your class definition above, you'll need to rerun that cell and then re-instantiate <code>repo</code>. Otherwise, you won't be able to submit to the grader for this task.\n",
    "</div>"
   ]
  },
  {
   "cell_type": "code",
   "execution_count": 120,
   "id": "254f4c9d-21ac-4c38-bb65-439dc6e08264",
   "metadata": {
    "deletable": false,
    "editable": false
   },
   "outputs": [
    {
     "data": {
      "text/html": [
       "\n",
       "    <div class=\"wqet-result\">\n",
       "      <div class=\"animation\">\n",
       "        <svg class=\"checkmark\" xmlns=\"http://www.w3.org/2000/svg\" viewBox=\"0 0 52 52\">\n",
       "          <circle class=\"checkmark__circle\" cx=\"26\" cy=\"26\" r=\"25\" fill=\"none\"/>\n",
       "          <path class=\"checkmark__check\" fill=\"none\" d=\"M14.1 27.2l7.1 7.2 16.7-16.8\"/>\n",
       "        </svg>\n",
       "      </div>\n",
       "      <div class=\"details\">\n",
       "        <p class=\"title\"><p>🥳</p></p>\n",
       "        <p>Score: 1</p>\n",
       "      </div>\n",
       "    </div>\n"
      ],
      "text/plain": [
       "<IPython.core.display.HTML object>"
      ]
     },
     "metadata": {},
     "output_type": "display_data"
    }
   ],
   "source": [
    "submission = wqet_grader.clean_bson(repo.find_exp_observations())\n",
    "wqet_grader.grade(\"Project 7 Assessment\", \"Task 7.5.13\", submission)"
   ]
  },
  {
   "cell_type": "markdown",
   "id": "4c077432-9c96-4915-8623-2d82caac86dc",
   "metadata": {
    "deletable": false,
    "editable": false
   },
   "source": [
    "**Task 7.5.14:** Using your `find_exp_observations` method load the observations from your `repo` into the DataFrame `df`."
   ]
  },
  {
   "cell_type": "code",
   "execution_count": 108,
   "id": "dc965fd2-ec09-4295-b077-e6c0c0d94610",
   "metadata": {
    "deletable": false
   },
   "outputs": [
    {
     "name": "stdout",
     "output_type": "stream",
     "text": [
      "df type: <class 'pandas.core.frame.DataFrame'>\n",
      "df shape: (83, 12)\n"
     ]
    },
    {
     "data": {
      "text/html": [
       "<div>\n",
       "<style scoped>\n",
       "    .dataframe tbody tr th:only-of-type {\n",
       "        vertical-align: middle;\n",
       "    }\n",
       "\n",
       "    .dataframe tbody tr th {\n",
       "        vertical-align: top;\n",
       "    }\n",
       "\n",
       "    .dataframe thead th {\n",
       "        text-align: right;\n",
       "    }\n",
       "</style>\n",
       "<table border=\"1\" class=\"dataframe\">\n",
       "  <thead>\n",
       "    <tr style=\"text-align: right;\">\n",
       "      <th></th>\n",
       "      <th>_id</th>\n",
       "      <th>createdAt</th>\n",
       "      <th>firstName</th>\n",
       "      <th>lastName</th>\n",
       "      <th>email</th>\n",
       "      <th>birthday</th>\n",
       "      <th>gender</th>\n",
       "      <th>highestDegreeEarned</th>\n",
       "      <th>countryISO2</th>\n",
       "      <th>admissionsQuiz</th>\n",
       "      <th>inExperiment</th>\n",
       "      <th>group</th>\n",
       "    </tr>\n",
       "  </thead>\n",
       "  <tbody>\n",
       "    <tr>\n",
       "      <th>0</th>\n",
       "      <td>634b6ff96fcaafb2130fb51f</td>\n",
       "      <td>2022-10-22 11:01:04</td>\n",
       "      <td>Bradley</td>\n",
       "      <td>Krasley</td>\n",
       "      <td>bradley.krasley57@microsift.com</td>\n",
       "      <td>1995-06-18</td>\n",
       "      <td>male</td>\n",
       "      <td>Bachelor's degree</td>\n",
       "      <td>CN</td>\n",
       "      <td>complete</td>\n",
       "      <td>True</td>\n",
       "      <td>email (t)</td>\n",
       "    </tr>\n",
       "    <tr>\n",
       "      <th>1</th>\n",
       "      <td>634b6ff96fcaafb2130fb520</td>\n",
       "      <td>2022-10-19 12:36:46</td>\n",
       "      <td>Andrew</td>\n",
       "      <td>Womack</td>\n",
       "      <td>andrew.womack91@microsift.com</td>\n",
       "      <td>2000-03-17</td>\n",
       "      <td>male</td>\n",
       "      <td>Master's degree</td>\n",
       "      <td>GH</td>\n",
       "      <td>complete</td>\n",
       "      <td>True</td>\n",
       "      <td>email (t)</td>\n",
       "    </tr>\n",
       "    <tr>\n",
       "      <th>2</th>\n",
       "      <td>634b6ff96fcaafb2130fb521</td>\n",
       "      <td>2022-10-16 23:46:25</td>\n",
       "      <td>Michael</td>\n",
       "      <td>Smith</td>\n",
       "      <td>michael.smith51@microsift.com</td>\n",
       "      <td>1995-08-29</td>\n",
       "      <td>male</td>\n",
       "      <td>Doctorate (e.g. PhD)</td>\n",
       "      <td>UG</td>\n",
       "      <td>complete</td>\n",
       "      <td>True</td>\n",
       "      <td>email (t)</td>\n",
       "    </tr>\n",
       "    <tr>\n",
       "      <th>3</th>\n",
       "      <td>634b6ff96fcaafb2130fb526</td>\n",
       "      <td>2022-10-22 01:26:40</td>\n",
       "      <td>Alex</td>\n",
       "      <td>Hachting</td>\n",
       "      <td>alex.hachting27@hotmeal.com</td>\n",
       "      <td>1998-03-21</td>\n",
       "      <td>male</td>\n",
       "      <td>Bachelor's degree</td>\n",
       "      <td>IN</td>\n",
       "      <td>complete</td>\n",
       "      <td>True</td>\n",
       "      <td>email (t)</td>\n",
       "    </tr>\n",
       "    <tr>\n",
       "      <th>4</th>\n",
       "      <td>634b6ff96fcaafb2130fb52b</td>\n",
       "      <td>2022-10-16 13:40:05</td>\n",
       "      <td>Jerry</td>\n",
       "      <td>Neilan</td>\n",
       "      <td>jerry.neilan81@microsift.com</td>\n",
       "      <td>1972-07-02</td>\n",
       "      <td>male</td>\n",
       "      <td>Master's degree</td>\n",
       "      <td>LB</td>\n",
       "      <td>complete</td>\n",
       "      <td>True</td>\n",
       "      <td>email (t)</td>\n",
       "    </tr>\n",
       "  </tbody>\n",
       "</table>\n",
       "</div>"
      ],
      "text/plain": [
       "                        _id           createdAt firstName  lastName  \\\n",
       "0  634b6ff96fcaafb2130fb51f 2022-10-22 11:01:04   Bradley   Krasley   \n",
       "1  634b6ff96fcaafb2130fb520 2022-10-19 12:36:46    Andrew    Womack   \n",
       "2  634b6ff96fcaafb2130fb521 2022-10-16 23:46:25   Michael     Smith   \n",
       "3  634b6ff96fcaafb2130fb526 2022-10-22 01:26:40      Alex  Hachting   \n",
       "4  634b6ff96fcaafb2130fb52b 2022-10-16 13:40:05     Jerry    Neilan   \n",
       "\n",
       "                             email   birthday gender   highestDegreeEarned  \\\n",
       "0  bradley.krasley57@microsift.com 1995-06-18   male     Bachelor's degree   \n",
       "1    andrew.womack91@microsift.com 2000-03-17   male       Master's degree   \n",
       "2    michael.smith51@microsift.com 1995-08-29   male  Doctorate (e.g. PhD)   \n",
       "3      alex.hachting27@hotmeal.com 1998-03-21   male     Bachelor's degree   \n",
       "4     jerry.neilan81@microsift.com 1972-07-02   male       Master's degree   \n",
       "\n",
       "  countryISO2 admissionsQuiz  inExperiment      group  \n",
       "0          CN       complete          True  email (t)  \n",
       "1          GH       complete          True  email (t)  \n",
       "2          UG       complete          True  email (t)  \n",
       "3          IN       complete          True  email (t)  \n",
       "4          LB       complete          True  email (t)  "
      ]
     },
     "execution_count": 108,
     "metadata": {},
     "output_type": "execute_result"
    }
   ],
   "source": [
    "result = repo.find_exp_observations()\n",
    "df = pd.DataFrame(result).dropna()\n",
    "\n",
    "\n",
    "print(\"df type:\", type(df))\n",
    "print(\"df shape:\", df.shape)\n",
    "df.head()"
   ]
  },
  {
   "cell_type": "code",
   "execution_count": 109,
   "id": "82e96c10-5693-4ad2-a6db-83b4ce81e3b7",
   "metadata": {
    "deletable": false,
    "editable": false
   },
   "outputs": [
    {
     "data": {
      "text/html": [
       "\n",
       "    <div class=\"wqet-result\">\n",
       "      <div class=\"animation\">\n",
       "        <svg class=\"checkmark\" xmlns=\"http://www.w3.org/2000/svg\" viewBox=\"0 0 52 52\">\n",
       "          <circle class=\"checkmark__circle\" cx=\"26\" cy=\"26\" r=\"25\" fill=\"none\"/>\n",
       "          <path class=\"checkmark__check\" fill=\"none\" d=\"M14.1 27.2l7.1 7.2 16.7-16.8\"/>\n",
       "        </svg>\n",
       "      </div>\n",
       "      <div class=\"details\">\n",
       "        <p class=\"title\"><p>Python master 😁</p></p>\n",
       "        <p>Score: 1</p>\n",
       "      </div>\n",
       "    </div>\n"
      ],
      "text/plain": [
       "<IPython.core.display.HTML object>"
      ]
     },
     "metadata": {},
     "output_type": "display_data"
    }
   ],
   "source": [
    "# DREW: This should check column names only\n",
    "wqet_grader.grade(\"Project 7 Assessment\", \"Task 7.5.14\", df.drop(columns=[\"_id\"]))\n"
   ]
  },
  {
   "cell_type": "markdown",
   "id": "fe83d4c3-ea49-462a-822e-4493150a27eb",
   "metadata": {
    "deletable": false,
    "editable": false
   },
   "source": [
    "**Task 7.5.15:** Create a `crosstab` to of the data in `df`, showing how many applicants in each experimental group did and did not complete the admissions quiz. Assign the result to `data`."
   ]
  },
  {
   "cell_type": "code",
   "execution_count": 110,
   "id": "58082ff0-b192-4082-ab13-f7dbbeed8560",
   "metadata": {
    "deletable": false
   },
   "outputs": [
    {
     "name": "stdout",
     "output_type": "stream",
     "text": [
      "data type: <class 'pandas.core.frame.DataFrame'>\n",
      "data shape: (2, 2)\n"
     ]
    },
    {
     "data": {
      "text/html": [
       "<div>\n",
       "<style scoped>\n",
       "    .dataframe tbody tr th:only-of-type {\n",
       "        vertical-align: middle;\n",
       "    }\n",
       "\n",
       "    .dataframe tbody tr th {\n",
       "        vertical-align: top;\n",
       "    }\n",
       "\n",
       "    .dataframe thead th {\n",
       "        text-align: right;\n",
       "    }\n",
       "</style>\n",
       "<table border=\"1\" class=\"dataframe\">\n",
       "  <thead>\n",
       "    <tr style=\"text-align: right;\">\n",
       "      <th>admissionsQuiz</th>\n",
       "      <th>complete</th>\n",
       "      <th>incomplete</th>\n",
       "    </tr>\n",
       "    <tr>\n",
       "      <th>group</th>\n",
       "      <th></th>\n",
       "      <th></th>\n",
       "    </tr>\n",
       "  </thead>\n",
       "  <tbody>\n",
       "    <tr>\n",
       "      <th>email (t)</th>\n",
       "      <td>8</td>\n",
       "      <td>33</td>\n",
       "    </tr>\n",
       "    <tr>\n",
       "      <th>no email (c)</th>\n",
       "      <td>2</td>\n",
       "      <td>40</td>\n",
       "    </tr>\n",
       "  </tbody>\n",
       "</table>\n",
       "</div>"
      ],
      "text/plain": [
       "admissionsQuiz  complete  incomplete\n",
       "group                               \n",
       "email (t)              8          33\n",
       "no email (c)           2          40"
      ]
     },
     "execution_count": 110,
     "metadata": {},
     "output_type": "execute_result"
    }
   ],
   "source": [
    "data = pd.crosstab(\n",
    "    index=df['group'],\n",
    "    columns=df['admissionsQuiz'],\n",
    "    normalize=False\n",
    ")\n",
    "\n",
    "print(\"data type:\", type(data))\n",
    "print(\"data shape:\", data.shape)\n",
    "data"
   ]
  },
  {
   "cell_type": "code",
   "execution_count": 111,
   "id": "093f0ba0-3ee8-48f3-9c4d-249674123abc",
   "metadata": {
    "deletable": false,
    "editable": false
   },
   "outputs": [
    {
     "data": {
      "text/html": [
       "\n",
       "    <div class=\"wqet-result\">\n",
       "      <div class=\"animation\">\n",
       "        <svg class=\"checkmark\" xmlns=\"http://www.w3.org/2000/svg\" viewBox=\"0 0 52 52\">\n",
       "          <circle class=\"checkmark__circle\" cx=\"26\" cy=\"26\" r=\"25\" fill=\"none\"/>\n",
       "          <path class=\"checkmark__check\" fill=\"none\" d=\"M14.1 27.2l7.1 7.2 16.7-16.8\"/>\n",
       "        </svg>\n",
       "      </div>\n",
       "      <div class=\"details\">\n",
       "        <p class=\"title\"><p>Awesome work.</p></p>\n",
       "        <p>Score: 1</p>\n",
       "      </div>\n",
       "    </div>\n"
      ],
      "text/plain": [
       "<IPython.core.display.HTML object>"
      ]
     },
     "metadata": {},
     "output_type": "display_data"
    }
   ],
   "source": [
    "wqet_grader.grade(\"Project 7 Assessment\", \"Task 7.5.15\", data)\n"
   ]
  },
  {
   "cell_type": "markdown",
   "id": "fba956be-1f1f-43de-829e-25d70461585b",
   "metadata": {
    "deletable": false,
    "editable": false
   },
   "source": [
    "**Task 7.5.16:** Create a function that returns side-by-side bar chart of `data`, showing the number of complete and incomplete quizzes for both the treatment and control groups. Be sure to label the x-axis `\"Group\"`, the y-axis `\"Frequency [count]\"`, and use the title `\"MScFE: Admissions Quiz Completion by Group\"`."
   ]
  },
  {
   "cell_type": "code",
   "execution_count": 112,
   "id": "8f417a06-5cec-4703-a6ac-4380b806743d",
   "metadata": {
    "deletable": false
   },
   "outputs": [
    {
     "data": {
      "application/vnd.plotly.v1+json": {
       "config": {
        "plotlyServerURL": "https://plot.ly"
       },
       "data": [
        {
         "alignmentgroup": "True",
         "hovertemplate": "admissionsQuiz=complete<br>group=%{x}<br>value=%{y}<extra></extra>",
         "legendgroup": "complete",
         "marker": {
          "color": "#636efa",
          "pattern": {
           "shape": ""
          }
         },
         "name": "complete",
         "offsetgroup": "complete",
         "orientation": "v",
         "showlegend": true,
         "textposition": "auto",
         "type": "bar",
         "x": [
          "email (t)",
          "no email (c)"
         ],
         "xaxis": "x",
         "y": [
          8,
          2
         ],
         "yaxis": "y"
        },
        {
         "alignmentgroup": "True",
         "hovertemplate": "admissionsQuiz=incomplete<br>group=%{x}<br>value=%{y}<extra></extra>",
         "legendgroup": "incomplete",
         "marker": {
          "color": "#EF553B",
          "pattern": {
           "shape": ""
          }
         },
         "name": "incomplete",
         "offsetgroup": "incomplete",
         "orientation": "v",
         "showlegend": true,
         "textposition": "auto",
         "type": "bar",
         "x": [
          "email (t)",
          "no email (c)"
         ],
         "xaxis": "x",
         "y": [
          33,
          40
         ],
         "yaxis": "y"
        }
       ],
       "layout": {
        "autosize": true,
        "barmode": "group",
        "legend": {
         "title": {
          "text": "Admissions Quiz"
         },
         "tracegroupgap": 0
        },
        "template": {
         "data": {
          "bar": [
           {
            "error_x": {
             "color": "#2a3f5f"
            },
            "error_y": {
             "color": "#2a3f5f"
            },
            "marker": {
             "line": {
              "color": "#E5ECF6",
              "width": 0.5
             },
             "pattern": {
              "fillmode": "overlay",
              "size": 10,
              "solidity": 0.2
             }
            },
            "type": "bar"
           }
          ],
          "barpolar": [
           {
            "marker": {
             "line": {
              "color": "#E5ECF6",
              "width": 0.5
             },
             "pattern": {
              "fillmode": "overlay",
              "size": 10,
              "solidity": 0.2
             }
            },
            "type": "barpolar"
           }
          ],
          "carpet": [
           {
            "aaxis": {
             "endlinecolor": "#2a3f5f",
             "gridcolor": "white",
             "linecolor": "white",
             "minorgridcolor": "white",
             "startlinecolor": "#2a3f5f"
            },
            "baxis": {
             "endlinecolor": "#2a3f5f",
             "gridcolor": "white",
             "linecolor": "white",
             "minorgridcolor": "white",
             "startlinecolor": "#2a3f5f"
            },
            "type": "carpet"
           }
          ],
          "choropleth": [
           {
            "colorbar": {
             "outlinewidth": 0,
             "ticks": ""
            },
            "type": "choropleth"
           }
          ],
          "contour": [
           {
            "colorbar": {
             "outlinewidth": 0,
             "ticks": ""
            },
            "colorscale": [
             [
              0,
              "#0d0887"
             ],
             [
              0.1111111111111111,
              "#46039f"
             ],
             [
              0.2222222222222222,
              "#7201a8"
             ],
             [
              0.3333333333333333,
              "#9c179e"
             ],
             [
              0.4444444444444444,
              "#bd3786"
             ],
             [
              0.5555555555555556,
              "#d8576b"
             ],
             [
              0.6666666666666666,
              "#ed7953"
             ],
             [
              0.7777777777777778,
              "#fb9f3a"
             ],
             [
              0.8888888888888888,
              "#fdca26"
             ],
             [
              1,
              "#f0f921"
             ]
            ],
            "type": "contour"
           }
          ],
          "contourcarpet": [
           {
            "colorbar": {
             "outlinewidth": 0,
             "ticks": ""
            },
            "type": "contourcarpet"
           }
          ],
          "heatmap": [
           {
            "colorbar": {
             "outlinewidth": 0,
             "ticks": ""
            },
            "colorscale": [
             [
              0,
              "#0d0887"
             ],
             [
              0.1111111111111111,
              "#46039f"
             ],
             [
              0.2222222222222222,
              "#7201a8"
             ],
             [
              0.3333333333333333,
              "#9c179e"
             ],
             [
              0.4444444444444444,
              "#bd3786"
             ],
             [
              0.5555555555555556,
              "#d8576b"
             ],
             [
              0.6666666666666666,
              "#ed7953"
             ],
             [
              0.7777777777777778,
              "#fb9f3a"
             ],
             [
              0.8888888888888888,
              "#fdca26"
             ],
             [
              1,
              "#f0f921"
             ]
            ],
            "type": "heatmap"
           }
          ],
          "heatmapgl": [
           {
            "colorbar": {
             "outlinewidth": 0,
             "ticks": ""
            },
            "colorscale": [
             [
              0,
              "#0d0887"
             ],
             [
              0.1111111111111111,
              "#46039f"
             ],
             [
              0.2222222222222222,
              "#7201a8"
             ],
             [
              0.3333333333333333,
              "#9c179e"
             ],
             [
              0.4444444444444444,
              "#bd3786"
             ],
             [
              0.5555555555555556,
              "#d8576b"
             ],
             [
              0.6666666666666666,
              "#ed7953"
             ],
             [
              0.7777777777777778,
              "#fb9f3a"
             ],
             [
              0.8888888888888888,
              "#fdca26"
             ],
             [
              1,
              "#f0f921"
             ]
            ],
            "type": "heatmapgl"
           }
          ],
          "histogram": [
           {
            "marker": {
             "pattern": {
              "fillmode": "overlay",
              "size": 10,
              "solidity": 0.2
             }
            },
            "type": "histogram"
           }
          ],
          "histogram2d": [
           {
            "colorbar": {
             "outlinewidth": 0,
             "ticks": ""
            },
            "colorscale": [
             [
              0,
              "#0d0887"
             ],
             [
              0.1111111111111111,
              "#46039f"
             ],
             [
              0.2222222222222222,
              "#7201a8"
             ],
             [
              0.3333333333333333,
              "#9c179e"
             ],
             [
              0.4444444444444444,
              "#bd3786"
             ],
             [
              0.5555555555555556,
              "#d8576b"
             ],
             [
              0.6666666666666666,
              "#ed7953"
             ],
             [
              0.7777777777777778,
              "#fb9f3a"
             ],
             [
              0.8888888888888888,
              "#fdca26"
             ],
             [
              1,
              "#f0f921"
             ]
            ],
            "type": "histogram2d"
           }
          ],
          "histogram2dcontour": [
           {
            "colorbar": {
             "outlinewidth": 0,
             "ticks": ""
            },
            "colorscale": [
             [
              0,
              "#0d0887"
             ],
             [
              0.1111111111111111,
              "#46039f"
             ],
             [
              0.2222222222222222,
              "#7201a8"
             ],
             [
              0.3333333333333333,
              "#9c179e"
             ],
             [
              0.4444444444444444,
              "#bd3786"
             ],
             [
              0.5555555555555556,
              "#d8576b"
             ],
             [
              0.6666666666666666,
              "#ed7953"
             ],
             [
              0.7777777777777778,
              "#fb9f3a"
             ],
             [
              0.8888888888888888,
              "#fdca26"
             ],
             [
              1,
              "#f0f921"
             ]
            ],
            "type": "histogram2dcontour"
           }
          ],
          "mesh3d": [
           {
            "colorbar": {
             "outlinewidth": 0,
             "ticks": ""
            },
            "type": "mesh3d"
           }
          ],
          "parcoords": [
           {
            "line": {
             "colorbar": {
              "outlinewidth": 0,
              "ticks": ""
             }
            },
            "type": "parcoords"
           }
          ],
          "pie": [
           {
            "automargin": true,
            "type": "pie"
           }
          ],
          "scatter": [
           {
            "fillpattern": {
             "fillmode": "overlay",
             "size": 10,
             "solidity": 0.2
            },
            "type": "scatter"
           }
          ],
          "scatter3d": [
           {
            "line": {
             "colorbar": {
              "outlinewidth": 0,
              "ticks": ""
             }
            },
            "marker": {
             "colorbar": {
              "outlinewidth": 0,
              "ticks": ""
             }
            },
            "type": "scatter3d"
           }
          ],
          "scattercarpet": [
           {
            "marker": {
             "colorbar": {
              "outlinewidth": 0,
              "ticks": ""
             }
            },
            "type": "scattercarpet"
           }
          ],
          "scattergeo": [
           {
            "marker": {
             "colorbar": {
              "outlinewidth": 0,
              "ticks": ""
             }
            },
            "type": "scattergeo"
           }
          ],
          "scattergl": [
           {
            "marker": {
             "colorbar": {
              "outlinewidth": 0,
              "ticks": ""
             }
            },
            "type": "scattergl"
           }
          ],
          "scattermapbox": [
           {
            "marker": {
             "colorbar": {
              "outlinewidth": 0,
              "ticks": ""
             }
            },
            "type": "scattermapbox"
           }
          ],
          "scatterpolar": [
           {
            "marker": {
             "colorbar": {
              "outlinewidth": 0,
              "ticks": ""
             }
            },
            "type": "scatterpolar"
           }
          ],
          "scatterpolargl": [
           {
            "marker": {
             "colorbar": {
              "outlinewidth": 0,
              "ticks": ""
             }
            },
            "type": "scatterpolargl"
           }
          ],
          "scatterternary": [
           {
            "marker": {
             "colorbar": {
              "outlinewidth": 0,
              "ticks": ""
             }
            },
            "type": "scatterternary"
           }
          ],
          "surface": [
           {
            "colorbar": {
             "outlinewidth": 0,
             "ticks": ""
            },
            "colorscale": [
             [
              0,
              "#0d0887"
             ],
             [
              0.1111111111111111,
              "#46039f"
             ],
             [
              0.2222222222222222,
              "#7201a8"
             ],
             [
              0.3333333333333333,
              "#9c179e"
             ],
             [
              0.4444444444444444,
              "#bd3786"
             ],
             [
              0.5555555555555556,
              "#d8576b"
             ],
             [
              0.6666666666666666,
              "#ed7953"
             ],
             [
              0.7777777777777778,
              "#fb9f3a"
             ],
             [
              0.8888888888888888,
              "#fdca26"
             ],
             [
              1,
              "#f0f921"
             ]
            ],
            "type": "surface"
           }
          ],
          "table": [
           {
            "cells": {
             "fill": {
              "color": "#EBF0F8"
             },
             "line": {
              "color": "white"
             }
            },
            "header": {
             "fill": {
              "color": "#C8D4E3"
             },
             "line": {
              "color": "white"
             }
            },
            "type": "table"
           }
          ]
         },
         "layout": {
          "annotationdefaults": {
           "arrowcolor": "#2a3f5f",
           "arrowhead": 0,
           "arrowwidth": 1
          },
          "autotypenumbers": "strict",
          "coloraxis": {
           "colorbar": {
            "outlinewidth": 0,
            "ticks": ""
           }
          },
          "colorscale": {
           "diverging": [
            [
             0,
             "#8e0152"
            ],
            [
             0.1,
             "#c51b7d"
            ],
            [
             0.2,
             "#de77ae"
            ],
            [
             0.3,
             "#f1b6da"
            ],
            [
             0.4,
             "#fde0ef"
            ],
            [
             0.5,
             "#f7f7f7"
            ],
            [
             0.6,
             "#e6f5d0"
            ],
            [
             0.7,
             "#b8e186"
            ],
            [
             0.8,
             "#7fbc41"
            ],
            [
             0.9,
             "#4d9221"
            ],
            [
             1,
             "#276419"
            ]
           ],
           "sequential": [
            [
             0,
             "#0d0887"
            ],
            [
             0.1111111111111111,
             "#46039f"
            ],
            [
             0.2222222222222222,
             "#7201a8"
            ],
            [
             0.3333333333333333,
             "#9c179e"
            ],
            [
             0.4444444444444444,
             "#bd3786"
            ],
            [
             0.5555555555555556,
             "#d8576b"
            ],
            [
             0.6666666666666666,
             "#ed7953"
            ],
            [
             0.7777777777777778,
             "#fb9f3a"
            ],
            [
             0.8888888888888888,
             "#fdca26"
            ],
            [
             1,
             "#f0f921"
            ]
           ],
           "sequentialminus": [
            [
             0,
             "#0d0887"
            ],
            [
             0.1111111111111111,
             "#46039f"
            ],
            [
             0.2222222222222222,
             "#7201a8"
            ],
            [
             0.3333333333333333,
             "#9c179e"
            ],
            [
             0.4444444444444444,
             "#bd3786"
            ],
            [
             0.5555555555555556,
             "#d8576b"
            ],
            [
             0.6666666666666666,
             "#ed7953"
            ],
            [
             0.7777777777777778,
             "#fb9f3a"
            ],
            [
             0.8888888888888888,
             "#fdca26"
            ],
            [
             1,
             "#f0f921"
            ]
           ]
          },
          "colorway": [
           "#636efa",
           "#EF553B",
           "#00cc96",
           "#ab63fa",
           "#FFA15A",
           "#19d3f3",
           "#FF6692",
           "#B6E880",
           "#FF97FF",
           "#FECB52"
          ],
          "font": {
           "color": "#2a3f5f"
          },
          "geo": {
           "bgcolor": "white",
           "lakecolor": "white",
           "landcolor": "#E5ECF6",
           "showlakes": true,
           "showland": true,
           "subunitcolor": "white"
          },
          "hoverlabel": {
           "align": "left"
          },
          "hovermode": "closest",
          "mapbox": {
           "style": "light"
          },
          "paper_bgcolor": "white",
          "plot_bgcolor": "#E5ECF6",
          "polar": {
           "angularaxis": {
            "gridcolor": "white",
            "linecolor": "white",
            "ticks": ""
           },
           "bgcolor": "#E5ECF6",
           "radialaxis": {
            "gridcolor": "white",
            "linecolor": "white",
            "ticks": ""
           }
          },
          "scene": {
           "xaxis": {
            "backgroundcolor": "#E5ECF6",
            "gridcolor": "white",
            "gridwidth": 2,
            "linecolor": "white",
            "showbackground": true,
            "ticks": "",
            "zerolinecolor": "white"
           },
           "yaxis": {
            "backgroundcolor": "#E5ECF6",
            "gridcolor": "white",
            "gridwidth": 2,
            "linecolor": "white",
            "showbackground": true,
            "ticks": "",
            "zerolinecolor": "white"
           },
           "zaxis": {
            "backgroundcolor": "#E5ECF6",
            "gridcolor": "white",
            "gridwidth": 2,
            "linecolor": "white",
            "showbackground": true,
            "ticks": "",
            "zerolinecolor": "white"
           }
          },
          "shapedefaults": {
           "line": {
            "color": "#2a3f5f"
           }
          },
          "ternary": {
           "aaxis": {
            "gridcolor": "white",
            "linecolor": "white",
            "ticks": ""
           },
           "baxis": {
            "gridcolor": "white",
            "linecolor": "white",
            "ticks": ""
           },
           "bgcolor": "#E5ECF6",
           "caxis": {
            "gridcolor": "white",
            "linecolor": "white",
            "ticks": ""
           }
          },
          "title": {
           "x": 0.05
          },
          "xaxis": {
           "automargin": true,
           "gridcolor": "white",
           "linecolor": "white",
           "ticks": "",
           "title": {
            "standoff": 15
           },
           "zerolinecolor": "white",
           "zerolinewidth": 2
          },
          "yaxis": {
           "automargin": true,
           "gridcolor": "white",
           "linecolor": "white",
           "ticks": "",
           "title": {
            "standoff": 15
           },
           "zerolinecolor": "white",
           "zerolinewidth": 2
          }
         }
        },
        "title": {
         "text": "MScFE: Admissions Quiz Completion by Group"
        },
        "xaxis": {
         "anchor": "y",
         "autorange": true,
         "domain": [
          0,
          1
         ],
         "range": [
          -0.5,
          1.5
         ],
         "title": {
          "text": "Group"
         },
         "type": "category"
        },
        "yaxis": {
         "anchor": "x",
         "autorange": true,
         "domain": [
          0,
          1
         ],
         "range": [
          0,
          42.10526315789474
         ],
         "title": {
          "text": "Frequency [count]"
         },
         "type": "linear"
        }
       }
      },
      "image/png": "[encoded data removed]",
      "text/html": [
       "<div>                            <div id=\"81993364-7283-4be0-b1f7-45092472702a\" class=\"plotly-graph-div\" style=\"height:525px; width:100%;\"></div>            <script type=\"text/javascript\">                require([\"plotly\"], function(Plotly) {                    window.PLOTLYENV=window.PLOTLYENV || {};                                    if (document.getElementById(\"81993364-7283-4be0-b1f7-45092472702a\")) {                    Plotly.newPlot(                        \"81993364-7283-4be0-b1f7-45092472702a\",                        [{\"alignmentgroup\":\"True\",\"hovertemplate\":\"admissionsQuiz=complete<br>group=%{x}<br>value=%{y}<extra></extra>\",\"legendgroup\":\"complete\",\"marker\":{\"color\":\"#636efa\",\"pattern\":{\"shape\":\"\"}},\"name\":\"complete\",\"offsetgroup\":\"complete\",\"orientation\":\"v\",\"showlegend\":true,\"textposition\":\"auto\",\"x\":[\"email (t)\",\"no email (c)\"],\"xaxis\":\"x\",\"y\":[8,2],\"yaxis\":\"y\",\"type\":\"bar\"},{\"alignmentgroup\":\"True\",\"hovertemplate\":\"admissionsQuiz=incomplete<br>group=%{x}<br>value=%{y}<extra></extra>\",\"legendgroup\":\"incomplete\",\"marker\":{\"color\":\"#EF553B\",\"pattern\":{\"shape\":\"\"}},\"name\":\"incomplete\",\"offsetgroup\":\"incomplete\",\"orientation\":\"v\",\"showlegend\":true,\"textposition\":\"auto\",\"x\":[\"email (t)\",\"no email (c)\"],\"xaxis\":\"x\",\"y\":[33,40],\"yaxis\":\"y\",\"type\":\"bar\"}],                        {\"template\":{\"data\":{\"histogram2dcontour\":[{\"type\":\"histogram2dcontour\",\"colorbar\":{\"outlinewidth\":0,\"ticks\":\"\"},\"colorscale\":[[0.0,\"#0d0887\"],[0.1111111111111111,\"#46039f\"],[0.2222222222222222,\"#7201a8\"],[0.3333333333333333,\"#9c179e\"],[0.4444444444444444,\"#bd3786\"],[0.5555555555555556,\"#d8576b\"],[0.6666666666666666,\"#ed7953\"],[0.7777777777777778,\"#fb9f3a\"],[0.8888888888888888,\"#fdca26\"],[1.0,\"#f0f921\"]]}],\"choropleth\":[{\"type\":\"choropleth\",\"colorbar\":{\"outlinewidth\":0,\"ticks\":\"\"}}],\"histogram2d\":[{\"type\":\"histogram2d\",\"colorbar\":{\"outlinewidth\":0,\"ticks\":\"\"},\"colorscale\":[[0.0,\"#0d0887\"],[0.1111111111111111,\"#46039f\"],[0.2222222222222222,\"#7201a8\"],[0.3333333333333333,\"#9c179e\"],[0.4444444444444444,\"#bd3786\"],[0.5555555555555556,\"#d8576b\"],[0.6666666666666666,\"#ed7953\"],[0.7777777777777778,\"#fb9f3a\"],[0.8888888888888888,\"#fdca26\"],[1.0,\"#f0f921\"]]}],\"heatmap\":[{\"type\":\"heatmap\",\"colorbar\":{\"outlinewidth\":0,\"ticks\":\"\"},\"colorscale\":[[0.0,\"#0d0887\"],[0.1111111111111111,\"#46039f\"],[0.2222222222222222,\"#7201a8\"],[0.3333333333333333,\"#9c179e\"],[0.4444444444444444,\"#bd3786\"],[0.5555555555555556,\"#d8576b\"],[0.6666666666666666,\"#ed7953\"],[0.7777777777777778,\"#fb9f3a\"],[0.8888888888888888,\"#fdca26\"],[1.0,\"#f0f921\"]]}],\"heatmapgl\":[{\"type\":\"heatmapgl\",\"colorbar\":{\"outlinewidth\":0,\"ticks\":\"\"},\"colorscale\":[[0.0,\"#0d0887\"],[0.1111111111111111,\"#46039f\"],[0.2222222222222222,\"#7201a8\"],[0.3333333333333333,\"#9c179e\"],[0.4444444444444444,\"#bd3786\"],[0.5555555555555556,\"#d8576b\"],[0.6666666666666666,\"#ed7953\"],[0.7777777777777778,\"#fb9f3a\"],[0.8888888888888888,\"#fdca26\"],[1.0,\"#f0f921\"]]}],\"contourcarpet\":[{\"type\":\"contourcarpet\",\"colorbar\":{\"outlinewidth\":0,\"ticks\":\"\"}}],\"contour\":[{\"type\":\"contour\",\"colorbar\":{\"outlinewidth\":0,\"ticks\":\"\"},\"colorscale\":[[0.0,\"#0d0887\"],[0.1111111111111111,\"#46039f\"],[0.2222222222222222,\"#7201a8\"],[0.3333333333333333,\"#9c179e\"],[0.4444444444444444,\"#bd3786\"],[0.5555555555555556,\"#d8576b\"],[0.6666666666666666,\"#ed7953\"],[0.7777777777777778,\"#fb9f3a\"],[0.8888888888888888,\"#fdca26\"],[1.0,\"#f0f921\"]]}],\"surface\":[{\"type\":\"surface\",\"colorbar\":{\"outlinewidth\":0,\"ticks\":\"\"},\"colorscale\":[[0.0,\"#0d0887\"],[0.1111111111111111,\"#46039f\"],[0.2222222222222222,\"#7201a8\"],[0.3333333333333333,\"#9c179e\"],[0.4444444444444444,\"#bd3786\"],[0.5555555555555556,\"#d8576b\"],[0.6666666666666666,\"#ed7953\"],[0.7777777777777778,\"#fb9f3a\"],[0.8888888888888888,\"#fdca26\"],[1.0,\"#f0f921\"]]}],\"mesh3d\":[{\"type\":\"mesh3d\",\"colorbar\":{\"outlinewidth\":0,\"ticks\":\"\"}}],\"scatter\":[{\"fillpattern\":{\"fillmode\":\"overlay\",\"size\":10,\"solidity\":0.2},\"type\":\"scatter\"}],\"parcoords\":[{\"type\":\"parcoords\",\"line\":{\"colorbar\":{\"outlinewidth\":0,\"ticks\":\"\"}}}],\"scatterpolargl\":[{\"type\":\"scatterpolargl\",\"marker\":{\"colorbar\":{\"outlinewidth\":0,\"ticks\":\"\"}}}],\"bar\":[{\"error_x\":{\"color\":\"#2a3f5f\"},\"error_y\":{\"color\":\"#2a3f5f\"},\"marker\":{\"line\":{\"color\":\"#E5ECF6\",\"width\":0.5},\"pattern\":{\"fillmode\":\"overlay\",\"size\":10,\"solidity\":0.2}},\"type\":\"bar\"}],\"scattergeo\":[{\"type\":\"scattergeo\",\"marker\":{\"colorbar\":{\"outlinewidth\":0,\"ticks\":\"\"}}}],\"scatterpolar\":[{\"type\":\"scatterpolar\",\"marker\":{\"colorbar\":{\"outlinewidth\":0,\"ticks\":\"\"}}}],\"histogram\":[{\"marker\":{\"pattern\":{\"fillmode\":\"overlay\",\"size\":10,\"solidity\":0.2}},\"type\":\"histogram\"}],\"scattergl\":[{\"type\":\"scattergl\",\"marker\":{\"colorbar\":{\"outlinewidth\":0,\"ticks\":\"\"}}}],\"scatter3d\":[{\"type\":\"scatter3d\",\"line\":{\"colorbar\":{\"outlinewidth\":0,\"ticks\":\"\"}},\"marker\":{\"colorbar\":{\"outlinewidth\":0,\"ticks\":\"\"}}}],\"scattermapbox\":[{\"type\":\"scattermapbox\",\"marker\":{\"colorbar\":{\"outlinewidth\":0,\"ticks\":\"\"}}}],\"scatterternary\":[{\"type\":\"scatterternary\",\"marker\":{\"colorbar\":{\"outlinewidth\":0,\"ticks\":\"\"}}}],\"scattercarpet\":[{\"type\":\"scattercarpet\",\"marker\":{\"colorbar\":{\"outlinewidth\":0,\"ticks\":\"\"}}}],\"carpet\":[{\"aaxis\":{\"endlinecolor\":\"#2a3f5f\",\"gridcolor\":\"white\",\"linecolor\":\"white\",\"minorgridcolor\":\"white\",\"startlinecolor\":\"#2a3f5f\"},\"baxis\":{\"endlinecolor\":\"#2a3f5f\",\"gridcolor\":\"white\",\"linecolor\":\"white\",\"minorgridcolor\":\"white\",\"startlinecolor\":\"#2a3f5f\"},\"type\":\"carpet\"}],\"table\":[{\"cells\":{\"fill\":{\"color\":\"#EBF0F8\"},\"line\":{\"color\":\"white\"}},\"header\":{\"fill\":{\"color\":\"#C8D4E3\"},\"line\":{\"color\":\"white\"}},\"type\":\"table\"}],\"barpolar\":[{\"marker\":{\"line\":{\"color\":\"#E5ECF6\",\"width\":0.5},\"pattern\":{\"fillmode\":\"overlay\",\"size\":10,\"solidity\":0.2}},\"type\":\"barpolar\"}],\"pie\":[{\"automargin\":true,\"type\":\"pie\"}]},\"layout\":{\"autotypenumbers\":\"strict\",\"colorway\":[\"#636efa\",\"#EF553B\",\"#00cc96\",\"#ab63fa\",\"#FFA15A\",\"#19d3f3\",\"#FF6692\",\"#B6E880\",\"#FF97FF\",\"#FECB52\"],\"font\":{\"color\":\"#2a3f5f\"},\"hovermode\":\"closest\",\"hoverlabel\":{\"align\":\"left\"},\"paper_bgcolor\":\"white\",\"plot_bgcolor\":\"#E5ECF6\",\"polar\":{\"bgcolor\":\"#E5ECF6\",\"angularaxis\":{\"gridcolor\":\"white\",\"linecolor\":\"white\",\"ticks\":\"\"},\"radialaxis\":{\"gridcolor\":\"white\",\"linecolor\":\"white\",\"ticks\":\"\"}},\"ternary\":{\"bgcolor\":\"#E5ECF6\",\"aaxis\":{\"gridcolor\":\"white\",\"linecolor\":\"white\",\"ticks\":\"\"},\"baxis\":{\"gridcolor\":\"white\",\"linecolor\":\"white\",\"ticks\":\"\"},\"caxis\":{\"gridcolor\":\"white\",\"linecolor\":\"white\",\"ticks\":\"\"}},\"coloraxis\":{\"colorbar\":{\"outlinewidth\":0,\"ticks\":\"\"}},\"colorscale\":{\"sequential\":[[0.0,\"#0d0887\"],[0.1111111111111111,\"#46039f\"],[0.2222222222222222,\"#7201a8\"],[0.3333333333333333,\"#9c179e\"],[0.4444444444444444,\"#bd3786\"],[0.5555555555555556,\"#d8576b\"],[0.6666666666666666,\"#ed7953\"],[0.7777777777777778,\"#fb9f3a\"],[0.8888888888888888,\"#fdca26\"],[1.0,\"#f0f921\"]],\"sequentialminus\":[[0.0,\"#0d0887\"],[0.1111111111111111,\"#46039f\"],[0.2222222222222222,\"#7201a8\"],[0.3333333333333333,\"#9c179e\"],[0.4444444444444444,\"#bd3786\"],[0.5555555555555556,\"#d8576b\"],[0.6666666666666666,\"#ed7953\"],[0.7777777777777778,\"#fb9f3a\"],[0.8888888888888888,\"#fdca26\"],[1.0,\"#f0f921\"]],\"diverging\":[[0,\"#8e0152\"],[0.1,\"#c51b7d\"],[0.2,\"#de77ae\"],[0.3,\"#f1b6da\"],[0.4,\"#fde0ef\"],[0.5,\"#f7f7f7\"],[0.6,\"#e6f5d0\"],[0.7,\"#b8e186\"],[0.8,\"#7fbc41\"],[0.9,\"#4d9221\"],[1,\"#276419\"]]},\"xaxis\":{\"gridcolor\":\"white\",\"linecolor\":\"white\",\"ticks\":\"\",\"title\":{\"standoff\":15},\"zerolinecolor\":\"white\",\"automargin\":true,\"zerolinewidth\":2},\"yaxis\":{\"gridcolor\":\"white\",\"linecolor\":\"white\",\"ticks\":\"\",\"title\":{\"standoff\":15},\"zerolinecolor\":\"white\",\"automargin\":true,\"zerolinewidth\":2},\"scene\":{\"xaxis\":{\"backgroundcolor\":\"#E5ECF6\",\"gridcolor\":\"white\",\"linecolor\":\"white\",\"showbackground\":true,\"ticks\":\"\",\"zerolinecolor\":\"white\",\"gridwidth\":2},\"yaxis\":{\"backgroundcolor\":\"#E5ECF6\",\"gridcolor\":\"white\",\"linecolor\":\"white\",\"showbackground\":true,\"ticks\":\"\",\"zerolinecolor\":\"white\",\"gridwidth\":2},\"zaxis\":{\"backgroundcolor\":\"#E5ECF6\",\"gridcolor\":\"white\",\"linecolor\":\"white\",\"showbackground\":true,\"ticks\":\"\",\"zerolinecolor\":\"white\",\"gridwidth\":2}},\"shapedefaults\":{\"line\":{\"color\":\"#2a3f5f\"}},\"annotationdefaults\":{\"arrowcolor\":\"#2a3f5f\",\"arrowhead\":0,\"arrowwidth\":1},\"geo\":{\"bgcolor\":\"white\",\"landcolor\":\"#E5ECF6\",\"subunitcolor\":\"white\",\"showland\":true,\"showlakes\":true,\"lakecolor\":\"white\"},\"title\":{\"x\":0.05},\"mapbox\":{\"style\":\"light\"}}},\"xaxis\":{\"anchor\":\"y\",\"domain\":[0.0,1.0],\"title\":{\"text\":\"Group\"}},\"yaxis\":{\"anchor\":\"x\",\"domain\":[0.0,1.0],\"title\":{\"text\":\"Frequency [count]\"}},\"legend\":{\"title\":{\"text\":\"Admissions Quiz\"},\"tracegroupgap\":0},\"title\":{\"text\":\"MScFE: Admissions Quiz Completion by Group\"},\"barmode\":\"group\"},                        {\"responsive\": true}                    ).then(function(){\n",
       "                            \n",
       "var gd = document.getElementById('81993364-7283-4be0-b1f7-45092472702a');\n",
       "var x = new MutationObserver(function (mutations, observer) {{\n",
       "        var display = window.getComputedStyle(gd).display;\n",
       "        if (!display || display === 'none') {{\n",
       "            console.log([gd, 'removed!']);\n",
       "            Plotly.purge(gd);\n",
       "            observer.disconnect();\n",
       "        }}\n",
       "}});\n",
       "\n",
       "// Listen for the removal of the full notebook cells\n",
       "var notebookContainer = gd.closest('#notebook-container');\n",
       "if (notebookContainer) {{\n",
       "    x.observe(notebookContainer, {childList: true});\n",
       "}}\n",
       "\n",
       "// Listen for the clearing of the current output cell\n",
       "var outputEl = gd.closest('.output');\n",
       "if (outputEl) {{\n",
       "    x.observe(outputEl, {childList: true});\n",
       "}}\n",
       "\n",
       "                        })                };                });            </script>        </div>"
      ]
     },
     "metadata": {},
     "output_type": "display_data"
    }
   ],
   "source": [
    "# Create `build_contingency_bar` function\n",
    "def build_contingency_bar():\n",
    "    # Create side-by-side bar chart\n",
    "    fig = px.bar(\n",
    "        data_frame=data,\n",
    "        barmode='group',\n",
    "        title=\"MScFE: Admissions Quiz Completion by Group\"\n",
    "    )\n",
    "    # Set axis labels\n",
    "    fig.update_layout(\n",
    "        xaxis_title='Group',\n",
    "        yaxis_title='Frequency [count]',\n",
    "        legend={'title': 'Admissions Quiz'}\n",
    "    )\n",
    "    return fig\n",
    "\n",
    "# Don't delete the code below 👇\n",
    "cb_fig = build_contingency_bar()\n",
    "cb_fig.write_image(\"images/7-5-16.png\", scale=1, height=500, width=700)\n",
    "\n",
    "cb_fig.show()"
   ]
  },
  {
   "cell_type": "code",
   "execution_count": 113,
   "id": "66af5ef5-a7b3-4293-a125-3116e2449914",
   "metadata": {
    "deletable": false,
    "editable": false
   },
   "outputs": [
    {
     "data": {
      "text/html": [
       "\n",
       "    <div class=\"wqet-result\">\n",
       "      <div class=\"animation\">\n",
       "        <svg class=\"checkmark\" xmlns=\"http://www.w3.org/2000/svg\" viewBox=\"0 0 52 52\">\n",
       "          <circle class=\"checkmark__circle\" cx=\"26\" cy=\"26\" r=\"25\" fill=\"none\"/>\n",
       "          <path class=\"checkmark__check\" fill=\"none\" d=\"M14.1 27.2l7.1 7.2 16.7-16.8\"/>\n",
       "        </svg>\n",
       "      </div>\n",
       "      <div class=\"details\">\n",
       "        <p class=\"title\"><p>🥳</p></p>\n",
       "        <p>Score: 1</p>\n",
       "      </div>\n",
       "    </div>\n"
      ],
      "text/plain": [
       "<IPython.core.display.HTML object>"
      ]
     },
     "metadata": {},
     "output_type": "display_data"
    }
   ],
   "source": [
    "with open(\"images/7-5-16.png\", \"rb\") as file:\n",
    "    wqet_grader.grade(\"Project 7 Assessment\", \"Task 7.5.16\", file)"
   ]
  },
  {
   "cell_type": "markdown",
   "id": "bb5af993-ec04-46a6-a250-02ff91a8d16d",
   "metadata": {
    "deletable": false,
    "editable": false
   },
   "source": [
    "**Task 7.5.17:** Instantiate a `Table2x2` object named `contingency_table`, using the values from the `data` you created above."
   ]
  },
  {
   "cell_type": "code",
   "execution_count": 114,
   "id": "b8baa596-6e5f-43e3-9b31-f7af4c288f7c",
   "metadata": {
    "deletable": false
   },
   "outputs": [
    {
     "name": "stdout",
     "output_type": "stream",
     "text": [
      "contingency_table type: <class 'statsmodels.stats.contingency_tables.Table2x2'>\n"
     ]
    },
    {
     "data": {
      "text/plain": [
       "array([[ 8, 33],\n",
       "       [ 2, 40]])"
      ]
     },
     "execution_count": 114,
     "metadata": {},
     "output_type": "execute_result"
    }
   ],
   "source": [
    "contingency_table = Table2x2(data.values)\n",
    "\n",
    "print(\"contingency_table type:\", type(contingency_table))\n",
    "contingency_table.table_orig"
   ]
  },
  {
   "cell_type": "code",
   "execution_count": 115,
   "id": "4cfdd1c6-a01d-405c-bddc-13f20ce25c82",
   "metadata": {
    "deletable": false,
    "editable": false
   },
   "outputs": [
    {
     "data": {
      "text/html": [
       "\n",
       "    <div class=\"wqet-result\">\n",
       "      <div class=\"animation\">\n",
       "        <svg class=\"checkmark\" xmlns=\"http://www.w3.org/2000/svg\" viewBox=\"0 0 52 52\">\n",
       "          <circle class=\"checkmark__circle\" cx=\"26\" cy=\"26\" r=\"25\" fill=\"none\"/>\n",
       "          <path class=\"checkmark__check\" fill=\"none\" d=\"M14.1 27.2l7.1 7.2 16.7-16.8\"/>\n",
       "        </svg>\n",
       "      </div>\n",
       "      <div class=\"details\">\n",
       "        <p class=\"title\"><p>Yes! Your hard work is paying off.</p></p>\n",
       "        <p>Score: 1</p>\n",
       "      </div>\n",
       "    </div>\n"
      ],
      "text/plain": [
       "<IPython.core.display.HTML object>"
      ]
     },
     "metadata": {},
     "output_type": "display_data"
    }
   ],
   "source": [
    "submission = contingency_table.table_orig.tolist()\n",
    "wqet_grader.grade(\"Project 7 Assessment\", \"Task 7.5.17\", submission)"
   ]
  },
  {
   "cell_type": "markdown",
   "id": "bc199156-8003-4227-9b24-5d73bb2f641f",
   "metadata": {
    "deletable": false,
    "editable": false
   },
   "source": [
    "**Task 7.5.18:** Perform a chi-square test of independence on your `contingency_table` and assign the results to `chi_square_test`."
   ]
  },
  {
   "cell_type": "code",
   "execution_count": 116,
   "id": "8452d034-ccbf-4b37-aefa-96162f94c07d",
   "metadata": {
    "deletable": false
   },
   "outputs": [
    {
     "name": "stdout",
     "output_type": "stream",
     "text": [
      "chi_square_test type: <class 'statsmodels.stats.contingency_tables._Bunch'>\n",
      "df          1\n",
      "pvalue      0.039024446016475034\n",
      "statistic   4.259803032472594\n"
     ]
    }
   ],
   "source": [
    "chi_square_test = contingency_table.test_nominal_association()\n",
    "\n",
    "print(\"chi_square_test type:\", type(chi_square_test))\n",
    "print(chi_square_test)"
   ]
  },
  {
   "cell_type": "code",
   "execution_count": 117,
   "id": "adfe9e46-7eae-4b9f-8942-6afe648e0756",
   "metadata": {
    "deletable": false,
    "editable": false
   },
   "outputs": [
    {
     "data": {
      "text/html": [
       "\n",
       "    <div class=\"wqet-result\">\n",
       "      <div class=\"animation\">\n",
       "        <svg class=\"checkmark\" xmlns=\"http://www.w3.org/2000/svg\" viewBox=\"0 0 52 52\">\n",
       "          <circle class=\"checkmark__circle\" cx=\"26\" cy=\"26\" r=\"25\" fill=\"none\"/>\n",
       "          <path class=\"checkmark__check\" fill=\"none\" d=\"M14.1 27.2l7.1 7.2 16.7-16.8\"/>\n",
       "        </svg>\n",
       "      </div>\n",
       "      <div class=\"details\">\n",
       "        <p class=\"title\"><p>Yes! Your hard work is paying off.</p></p>\n",
       "        <p>Score: 1</p>\n",
       "      </div>\n",
       "    </div>\n"
      ],
      "text/plain": [
       "<IPython.core.display.HTML object>"
      ]
     },
     "metadata": {},
     "output_type": "display_data"
    }
   ],
   "source": [
    "submission = {\"p-value\": chi_square_test.pvalue, \"statistic\": chi_square_test.statistic}\n",
    "submission\n",
    "wqet_grader.grade(\"Project 7 Assessment\", \"Task 7.5.18\", submission)"
   ]
  },
  {
   "cell_type": "markdown",
   "id": "bed9299e-94e8-4190-8b57-5fd7baf93f36",
   "metadata": {
    "deletable": false,
    "editable": false
   },
   "source": [
    "**Task 7.5.19:** Calculate the odds ratio for your `contingency_table`."
   ]
  },
  {
   "cell_type": "code",
   "execution_count": 118,
   "id": "4f8d286e-2449-423a-b537-94950c30fb90",
   "metadata": {
    "deletable": false
   },
   "outputs": [
    {
     "name": "stdout",
     "output_type": "stream",
     "text": [
      "Odds ratio: 4.8\n"
     ]
    }
   ],
   "source": [
    "odds_ratio = contingency_table.oddsratio.round(1)\n",
    "print(\"Odds ratio:\", odds_ratio)"
   ]
  },
  {
   "cell_type": "code",
   "execution_count": 119,
   "id": "d403ad01-2bae-4ec4-b688-21cb86f227c9",
   "metadata": {
    "deletable": false,
    "editable": false
   },
   "outputs": [
    {
     "data": {
      "text/html": [
       "\n",
       "    <div class=\"wqet-result\">\n",
       "      <div class=\"animation\">\n",
       "        <svg class=\"checkmark\" xmlns=\"http://www.w3.org/2000/svg\" viewBox=\"0 0 52 52\">\n",
       "          <circle class=\"checkmark__circle\" cx=\"26\" cy=\"26\" r=\"25\" fill=\"none\"/>\n",
       "          <path class=\"checkmark__check\" fill=\"none\" d=\"M14.1 27.2l7.1 7.2 16.7-16.8\"/>\n",
       "        </svg>\n",
       "      </div>\n",
       "      <div class=\"details\">\n",
       "        <p class=\"title\"><p>Excellent! Keep going.</p></p>\n",
       "        <p>Score: 1</p>\n",
       "      </div>\n",
       "    </div>\n"
      ],
      "text/plain": [
       "<IPython.core.display.HTML object>"
      ]
     },
     "metadata": {},
     "output_type": "display_data"
    }
   ],
   "source": [
    "submission = {\"odds ratio\": odds_ratio}\n",
    "submission\n",
    "wqet_grader.grade(\"Project 7 Assessment\", \"Task 7.5.19\", submission)"
   ]
  },
  {
   "cell_type": "markdown",
   "id": "5cdedbee",
   "metadata": {
    "deletable": false,
    "editable": false
   },
   "source": [
    "---\n",
    "Copyright © 2022 WorldQuant University. This\n",
    "content is licensed solely for personal use. Redistribution or\n",
    "publication of this material is strictly prohibited.\n"
   ]
  }
 ],
 "metadata": {
  "kernelspec": {
   "display_name": "Python 3 (ipykernel)",
   "language": "python",
   "name": "python3"
  },
  "language_info": {
   "codemirror_mode": {
    "name": "ipython",
    "version": 3
   },
   "file_extension": ".py",
   "mimetype": "text/x-python",
   "name": "python",
   "nbconvert_exporter": "python",
   "pygments_lexer": "ipython3",
   "version": "3.9.6"
  },
  "widgets": {
   "application/vnd.jupyter.widget-state+json": {
    "state": {},
    "version_major": 2,
    "version_minor": 0
   }
  }
 },
 "nbformat": 4,
 "nbformat_minor": 5
}
